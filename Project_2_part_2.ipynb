{
  "nbformat": 4,
  "nbformat_minor": 0,
  "metadata": {
    "colab": {
      "provenance": [],
      "mount_file_id": "1ZbmZO1QS3DSG5dJ9lsflLOp21PHVrsSZ",
      "authorship_tag": "ABX9TyMew3tSJxekXMS1G9fBmddp",
      "include_colab_link": true
    },
    "kernelspec": {
      "name": "python3",
      "display_name": "Python 3"
    },
    "language_info": {
      "name": "python"
    }
  },
  "cells": [
    {
      "cell_type": "markdown",
      "metadata": {
        "id": "view-in-github",
        "colab_type": "text"
      },
      "source": [
        "<a href=\"https://colab.research.google.com/github/Juribe7980/Project-1/blob/main/Project_2_part_2.ipynb\" target=\"_parent\"><img src=\"https://colab.research.google.com/assets/colab-badge.svg\" alt=\"Open In Colab\"/></a>"
      ]
    },
    {
      "cell_type": "markdown",
      "source": [
        "Part 2\n",
        "\n",
        "Jessica Uribe"
      ],
      "metadata": {
        "id": "2g3piQ3FK2JE"
      }
    },
    {
      "cell_type": "markdown",
      "source": [
        "Using the approved dataset you proposed for project 2 part 1 last week, you will clean and explore the data set.\n",
        "\n",
        "To meet the requirements for this week you must have:\n",
        "\n",
        "Deleted unnecessary columns.\n",
        "Deleted duplicate rows.\n",
        "Identified and addressed missing values.\n",
        "Identified and corrected inconsistencies in data for categorical values (i.e. Cat, cat, cats).\n",
        "Produced univariate visuals for the target and all features.\n",
        "Identified outliers.\n",
        "Clearly commented all of your cleaning steps and described any decisions you made.\n",
        "Commit your file to your Github repository and submit the link below."
      ],
      "metadata": {
        "id": "DuwV54yCIBJH"
      }
    },
    {
      "cell_type": "code",
      "source": [
        "## Pandas\n",
        "import pandas as pd\n",
        "#Seaborn\n",
        "import seaborn as sns\n",
        "## Numpy\n",
        "import numpy as np\n",
        "## MatplotLib\n",
        "import matplotlib.pyplot as plt\n",
        "\n",
        "## Preprocessing\n",
        "from sklearn.model_selection import train_test_split\n",
        "from sklearn.compose import make_column_selector\n",
        "from sklearn.preprocessing import StandardScaler, OneHotEncoder\n",
        "from sklearn.pipeline import make_pipeline\n",
        "from sklearn.compose import make_column_transformer\n",
        "from sklearn.impute import SimpleImputer\n",
        "\n",
        "\n"
      ],
      "metadata": {
        "id": "auE_8903IdG4"
      },
      "execution_count": 324,
      "outputs": []
    },
    {
      "cell_type": "code",
      "execution_count": 325,
      "metadata": {
        "colab": {
          "base_uri": "https://localhost:8080/",
          "height": 424
        },
        "id": "O1C1GZSxH_LJ",
        "outputId": "3d993bfe-7701-4856-f82e-ba339e9269b5"
      },
      "outputs": [
        {
          "output_type": "execute_result",
          "data": {
            "text/plain": [
              "                    winery             wine  year  rating  num_reviews  \\\n",
              "0            Teso La Monja            Tinto  2013     4.9           58   \n",
              "1                   Artadi    Vina El Pison  2018     4.9           31   \n",
              "2             Vega Sicilia            Unico  2009     4.8         1793   \n",
              "3             Vega Sicilia            Unico  1999     4.8         1705   \n",
              "4             Vega Sicilia            Unico  1996     4.8         1309   \n",
              "...                    ...              ...   ...     ...          ...   \n",
              "7495               Contino          Reserva  2016     4.2          392   \n",
              "7496  Conreria d'Scala Dei    Les Brugueres  2018     4.2          390   \n",
              "7497           Mustiguillo  Finca Terrerazo  2017     4.2          390   \n",
              "7498           Matarromera     Gran Reserva  2011     4.2          389   \n",
              "7499              Sei Solo         Preludio  2016     4.2          388   \n",
              "\n",
              "     country            region   price                  type  body  acidity  \n",
              "0     Espana              Toro  995.00              Toro Red   5.0      3.0  \n",
              "1     Espana    Vino de Espana  313.50           Tempranillo   4.0      2.0  \n",
              "2     Espana  Ribera del Duero  324.95  Ribera Del Duero Red   5.0      3.0  \n",
              "3     Espana  Ribera del Duero  692.96  Ribera Del Duero Red   5.0      3.0  \n",
              "4     Espana  Ribera del Duero  778.06  Ribera Del Duero Red   5.0      3.0  \n",
              "...      ...               ...     ...                   ...   ...      ...  \n",
              "7495  Espana             Rioja   19.98             Rioja Red   4.0      3.0  \n",
              "7496  Espana          Priorato   16.76           Priorat Red   4.0      3.0  \n",
              "7497  Espana      El Terrerazo   24.45                   Red   4.0      3.0  \n",
              "7498  Espana  Ribera del Duero   64.50  Ribera Del Duero Red   5.0      3.0  \n",
              "7499  Espana  Ribera del Duero   31.63  Ribera Del Duero Red   5.0      3.0  \n",
              "\n",
              "[7500 rows x 11 columns]"
            ],
            "text/html": [
              "\n",
              "  <div id=\"df-c46aef45-8a5e-4e1b-8765-5626639447c1\">\n",
              "    <div class=\"colab-df-container\">\n",
              "      <div>\n",
              "<style scoped>\n",
              "    .dataframe tbody tr th:only-of-type {\n",
              "        vertical-align: middle;\n",
              "    }\n",
              "\n",
              "    .dataframe tbody tr th {\n",
              "        vertical-align: top;\n",
              "    }\n",
              "\n",
              "    .dataframe thead th {\n",
              "        text-align: right;\n",
              "    }\n",
              "</style>\n",
              "<table border=\"1\" class=\"dataframe\">\n",
              "  <thead>\n",
              "    <tr style=\"text-align: right;\">\n",
              "      <th></th>\n",
              "      <th>winery</th>\n",
              "      <th>wine</th>\n",
              "      <th>year</th>\n",
              "      <th>rating</th>\n",
              "      <th>num_reviews</th>\n",
              "      <th>country</th>\n",
              "      <th>region</th>\n",
              "      <th>price</th>\n",
              "      <th>type</th>\n",
              "      <th>body</th>\n",
              "      <th>acidity</th>\n",
              "    </tr>\n",
              "  </thead>\n",
              "  <tbody>\n",
              "    <tr>\n",
              "      <th>0</th>\n",
              "      <td>Teso La Monja</td>\n",
              "      <td>Tinto</td>\n",
              "      <td>2013</td>\n",
              "      <td>4.9</td>\n",
              "      <td>58</td>\n",
              "      <td>Espana</td>\n",
              "      <td>Toro</td>\n",
              "      <td>995.00</td>\n",
              "      <td>Toro Red</td>\n",
              "      <td>5.0</td>\n",
              "      <td>3.0</td>\n",
              "    </tr>\n",
              "    <tr>\n",
              "      <th>1</th>\n",
              "      <td>Artadi</td>\n",
              "      <td>Vina El Pison</td>\n",
              "      <td>2018</td>\n",
              "      <td>4.9</td>\n",
              "      <td>31</td>\n",
              "      <td>Espana</td>\n",
              "      <td>Vino de Espana</td>\n",
              "      <td>313.50</td>\n",
              "      <td>Tempranillo</td>\n",
              "      <td>4.0</td>\n",
              "      <td>2.0</td>\n",
              "    </tr>\n",
              "    <tr>\n",
              "      <th>2</th>\n",
              "      <td>Vega Sicilia</td>\n",
              "      <td>Unico</td>\n",
              "      <td>2009</td>\n",
              "      <td>4.8</td>\n",
              "      <td>1793</td>\n",
              "      <td>Espana</td>\n",
              "      <td>Ribera del Duero</td>\n",
              "      <td>324.95</td>\n",
              "      <td>Ribera Del Duero Red</td>\n",
              "      <td>5.0</td>\n",
              "      <td>3.0</td>\n",
              "    </tr>\n",
              "    <tr>\n",
              "      <th>3</th>\n",
              "      <td>Vega Sicilia</td>\n",
              "      <td>Unico</td>\n",
              "      <td>1999</td>\n",
              "      <td>4.8</td>\n",
              "      <td>1705</td>\n",
              "      <td>Espana</td>\n",
              "      <td>Ribera del Duero</td>\n",
              "      <td>692.96</td>\n",
              "      <td>Ribera Del Duero Red</td>\n",
              "      <td>5.0</td>\n",
              "      <td>3.0</td>\n",
              "    </tr>\n",
              "    <tr>\n",
              "      <th>4</th>\n",
              "      <td>Vega Sicilia</td>\n",
              "      <td>Unico</td>\n",
              "      <td>1996</td>\n",
              "      <td>4.8</td>\n",
              "      <td>1309</td>\n",
              "      <td>Espana</td>\n",
              "      <td>Ribera del Duero</td>\n",
              "      <td>778.06</td>\n",
              "      <td>Ribera Del Duero Red</td>\n",
              "      <td>5.0</td>\n",
              "      <td>3.0</td>\n",
              "    </tr>\n",
              "    <tr>\n",
              "      <th>...</th>\n",
              "      <td>...</td>\n",
              "      <td>...</td>\n",
              "      <td>...</td>\n",
              "      <td>...</td>\n",
              "      <td>...</td>\n",
              "      <td>...</td>\n",
              "      <td>...</td>\n",
              "      <td>...</td>\n",
              "      <td>...</td>\n",
              "      <td>...</td>\n",
              "      <td>...</td>\n",
              "    </tr>\n",
              "    <tr>\n",
              "      <th>7495</th>\n",
              "      <td>Contino</td>\n",
              "      <td>Reserva</td>\n",
              "      <td>2016</td>\n",
              "      <td>4.2</td>\n",
              "      <td>392</td>\n",
              "      <td>Espana</td>\n",
              "      <td>Rioja</td>\n",
              "      <td>19.98</td>\n",
              "      <td>Rioja Red</td>\n",
              "      <td>4.0</td>\n",
              "      <td>3.0</td>\n",
              "    </tr>\n",
              "    <tr>\n",
              "      <th>7496</th>\n",
              "      <td>Conreria d'Scala Dei</td>\n",
              "      <td>Les Brugueres</td>\n",
              "      <td>2018</td>\n",
              "      <td>4.2</td>\n",
              "      <td>390</td>\n",
              "      <td>Espana</td>\n",
              "      <td>Priorato</td>\n",
              "      <td>16.76</td>\n",
              "      <td>Priorat Red</td>\n",
              "      <td>4.0</td>\n",
              "      <td>3.0</td>\n",
              "    </tr>\n",
              "    <tr>\n",
              "      <th>7497</th>\n",
              "      <td>Mustiguillo</td>\n",
              "      <td>Finca Terrerazo</td>\n",
              "      <td>2017</td>\n",
              "      <td>4.2</td>\n",
              "      <td>390</td>\n",
              "      <td>Espana</td>\n",
              "      <td>El Terrerazo</td>\n",
              "      <td>24.45</td>\n",
              "      <td>Red</td>\n",
              "      <td>4.0</td>\n",
              "      <td>3.0</td>\n",
              "    </tr>\n",
              "    <tr>\n",
              "      <th>7498</th>\n",
              "      <td>Matarromera</td>\n",
              "      <td>Gran Reserva</td>\n",
              "      <td>2011</td>\n",
              "      <td>4.2</td>\n",
              "      <td>389</td>\n",
              "      <td>Espana</td>\n",
              "      <td>Ribera del Duero</td>\n",
              "      <td>64.50</td>\n",
              "      <td>Ribera Del Duero Red</td>\n",
              "      <td>5.0</td>\n",
              "      <td>3.0</td>\n",
              "    </tr>\n",
              "    <tr>\n",
              "      <th>7499</th>\n",
              "      <td>Sei Solo</td>\n",
              "      <td>Preludio</td>\n",
              "      <td>2016</td>\n",
              "      <td>4.2</td>\n",
              "      <td>388</td>\n",
              "      <td>Espana</td>\n",
              "      <td>Ribera del Duero</td>\n",
              "      <td>31.63</td>\n",
              "      <td>Ribera Del Duero Red</td>\n",
              "      <td>5.0</td>\n",
              "      <td>3.0</td>\n",
              "    </tr>\n",
              "  </tbody>\n",
              "</table>\n",
              "<p>7500 rows × 11 columns</p>\n",
              "</div>\n",
              "      <button class=\"colab-df-convert\" onclick=\"convertToInteractive('df-c46aef45-8a5e-4e1b-8765-5626639447c1')\"\n",
              "              title=\"Convert this dataframe to an interactive table.\"\n",
              "              style=\"display:none;\">\n",
              "        \n",
              "  <svg xmlns=\"http://www.w3.org/2000/svg\" height=\"24px\"viewBox=\"0 0 24 24\"\n",
              "       width=\"24px\">\n",
              "    <path d=\"M0 0h24v24H0V0z\" fill=\"none\"/>\n",
              "    <path d=\"M18.56 5.44l.94 2.06.94-2.06 2.06-.94-2.06-.94-.94-2.06-.94 2.06-2.06.94zm-11 1L8.5 8.5l.94-2.06 2.06-.94-2.06-.94L8.5 2.5l-.94 2.06-2.06.94zm10 10l.94 2.06.94-2.06 2.06-.94-2.06-.94-.94-2.06-.94 2.06-2.06.94z\"/><path d=\"M17.41 7.96l-1.37-1.37c-.4-.4-.92-.59-1.43-.59-.52 0-1.04.2-1.43.59L10.3 9.45l-7.72 7.72c-.78.78-.78 2.05 0 2.83L4 21.41c.39.39.9.59 1.41.59.51 0 1.02-.2 1.41-.59l7.78-7.78 2.81-2.81c.8-.78.8-2.07 0-2.86zM5.41 20L4 18.59l7.72-7.72 1.47 1.35L5.41 20z\"/>\n",
              "  </svg>\n",
              "      </button>\n",
              "      \n",
              "  <style>\n",
              "    .colab-df-container {\n",
              "      display:flex;\n",
              "      flex-wrap:wrap;\n",
              "      gap: 12px;\n",
              "    }\n",
              "\n",
              "    .colab-df-convert {\n",
              "      background-color: #E8F0FE;\n",
              "      border: none;\n",
              "      border-radius: 50%;\n",
              "      cursor: pointer;\n",
              "      display: none;\n",
              "      fill: #1967D2;\n",
              "      height: 32px;\n",
              "      padding: 0 0 0 0;\n",
              "      width: 32px;\n",
              "    }\n",
              "\n",
              "    .colab-df-convert:hover {\n",
              "      background-color: #E2EBFA;\n",
              "      box-shadow: 0px 1px 2px rgba(60, 64, 67, 0.3), 0px 1px 3px 1px rgba(60, 64, 67, 0.15);\n",
              "      fill: #174EA6;\n",
              "    }\n",
              "\n",
              "    [theme=dark] .colab-df-convert {\n",
              "      background-color: #3B4455;\n",
              "      fill: #D2E3FC;\n",
              "    }\n",
              "\n",
              "    [theme=dark] .colab-df-convert:hover {\n",
              "      background-color: #434B5C;\n",
              "      box-shadow: 0px 1px 3px 1px rgba(0, 0, 0, 0.15);\n",
              "      filter: drop-shadow(0px 1px 2px rgba(0, 0, 0, 0.3));\n",
              "      fill: #FFFFFF;\n",
              "    }\n",
              "  </style>\n",
              "\n",
              "      <script>\n",
              "        const buttonEl =\n",
              "          document.querySelector('#df-c46aef45-8a5e-4e1b-8765-5626639447c1 button.colab-df-convert');\n",
              "        buttonEl.style.display =\n",
              "          google.colab.kernel.accessAllowed ? 'block' : 'none';\n",
              "\n",
              "        async function convertToInteractive(key) {\n",
              "          const element = document.querySelector('#df-c46aef45-8a5e-4e1b-8765-5626639447c1');\n",
              "          const dataTable =\n",
              "            await google.colab.kernel.invokeFunction('convertToInteractive',\n",
              "                                                     [key], {});\n",
              "          if (!dataTable) return;\n",
              "\n",
              "          const docLinkHtml = 'Like what you see? Visit the ' +\n",
              "            '<a target=\"_blank\" href=https://colab.research.google.com/notebooks/data_table.ipynb>data table notebook</a>'\n",
              "            + ' to learn more about interactive tables.';\n",
              "          element.innerHTML = '';\n",
              "          dataTable['output_type'] = 'display_data';\n",
              "          await google.colab.output.renderOutput(dataTable, element);\n",
              "          const docLink = document.createElement('div');\n",
              "          docLink.innerHTML = docLinkHtml;\n",
              "          element.appendChild(docLink);\n",
              "        }\n",
              "      </script>\n",
              "    </div>\n",
              "  </div>\n",
              "  "
            ]
          },
          "metadata": {},
          "execution_count": 325
        }
      ],
      "source": [
        "df = pd.read_csv('/content/drive/MyDrive/Week 5(JJ) Regression and classification/wines_SPA.csv')\n",
        "df"
      ]
    },
    {
      "cell_type": "code",
      "source": [
        "## Display the number of rows and columns for the dataframe\n",
        "df.shape\n",
        "print(f'There are {df.shape[0]} rows, and {df.shape[1]} columns.')\n",
        "print(f'The rows represent {df.shape[0]} observations, and the columns represent {df.shape[1]-1} features and 1 target variable.')"
      ],
      "metadata": {
        "colab": {
          "base_uri": "https://localhost:8080/"
        },
        "id": "9ZRymfJ-I6RR",
        "outputId": "e71dbf9c-053f-457f-e1e4-69cd87e29494"
      },
      "execution_count": 326,
      "outputs": [
        {
          "output_type": "stream",
          "name": "stdout",
          "text": [
            "There are 7500 rows, and 11 columns.\n",
            "The rows represent 7500 observations, and the columns represent 10 features and 1 target variable.\n"
          ]
        }
      ]
    },
    {
      "cell_type": "code",
      "source": [
        "## Display the column names, count of non-null values, and their datatypes\n",
        "df.info()"
      ],
      "metadata": {
        "colab": {
          "base_uri": "https://localhost:8080/"
        },
        "id": "5jzv6dEkI87J",
        "outputId": "906a7a61-534b-430c-866d-376a9dc0a63d"
      },
      "execution_count": 327,
      "outputs": [
        {
          "output_type": "stream",
          "name": "stdout",
          "text": [
            "<class 'pandas.core.frame.DataFrame'>\n",
            "RangeIndex: 7500 entries, 0 to 7499\n",
            "Data columns (total 11 columns):\n",
            " #   Column       Non-Null Count  Dtype  \n",
            "---  ------       --------------  -----  \n",
            " 0   winery       7500 non-null   object \n",
            " 1   wine         7500 non-null   object \n",
            " 2   year         7498 non-null   object \n",
            " 3   rating       7500 non-null   float64\n",
            " 4   num_reviews  7500 non-null   int64  \n",
            " 5   country      7500 non-null   object \n",
            " 6   region       7500 non-null   object \n",
            " 7   price        7500 non-null   float64\n",
            " 8   type         6955 non-null   object \n",
            " 9   body         6331 non-null   float64\n",
            " 10  acidity      6331 non-null   float64\n",
            "dtypes: float64(4), int64(1), object(6)\n",
            "memory usage: 644.7+ KB\n"
          ]
        }
      ]
    },
    {
      "cell_type": "code",
      "source": [
        "# top 10 type of wines and their entries\n",
        "df.type.value_counts().head(5)"
      ],
      "metadata": {
        "colab": {
          "base_uri": "https://localhost:8080/"
        },
        "id": "YZTs-HB4aF88",
        "outputId": "acb423fa-7425-4c19-fa83-2712be3f0461"
      },
      "execution_count": 328,
      "outputs": [
        {
          "output_type": "execute_result",
          "data": {
            "text/plain": [
              "Rioja Red               2357\n",
              "Ribera Del Duero Red    1407\n",
              "Red                      864\n",
              "Priorat Red              674\n",
              "Toro Red                 296\n",
              "Name: type, dtype: int64"
            ]
          },
          "metadata": {},
          "execution_count": 328
        }
      ]
    },
    {
      "cell_type": "code",
      "source": [
        "# filling null values with a mean value\n",
        "df['body'] = df['body'].fillna(df['body'].mean())\n",
        "df['type'] = df['type'].fillna('Rioja red')\n",
        "df['acidity'] = df['acidity'].fillna(df['acidity'].mean())\n"
      ],
      "metadata": {
        "id": "wQT_GpbKQrz_"
      },
      "execution_count": 329,
      "outputs": []
    },
    {
      "cell_type": "code",
      "source": [
        "df.isnull().sum()"
      ],
      "metadata": {
        "colab": {
          "base_uri": "https://localhost:8080/"
        },
        "id": "3iN5ChBWW3uH",
        "outputId": "dc52720d-31e6-4e72-ae5d-6f64c94b5cb0"
      },
      "execution_count": 330,
      "outputs": [
        {
          "output_type": "execute_result",
          "data": {
            "text/plain": [
              "winery         0\n",
              "wine           0\n",
              "year           2\n",
              "rating         0\n",
              "num_reviews    0\n",
              "country        0\n",
              "region         0\n",
              "price          0\n",
              "type           0\n",
              "body           0\n",
              "acidity        0\n",
              "dtype: int64"
            ]
          },
          "metadata": {},
          "execution_count": 330
        }
      ]
    },
    {
      "cell_type": "code",
      "source": [
        "# datatypes of variables in the dataset\n",
        "df.dtypes"
      ],
      "metadata": {
        "colab": {
          "base_uri": "https://localhost:8080/"
        },
        "id": "YHkOmGmWXA3L",
        "outputId": "52df93a7-8ed1-4c2d-c0dd-d6474a51e16b"
      },
      "execution_count": 331,
      "outputs": [
        {
          "output_type": "execute_result",
          "data": {
            "text/plain": [
              "winery          object\n",
              "wine            object\n",
              "year            object\n",
              "rating         float64\n",
              "num_reviews      int64\n",
              "country         object\n",
              "region          object\n",
              "price          float64\n",
              "type            object\n",
              "body           float64\n",
              "acidity        float64\n",
              "dtype: object"
            ]
          },
          "metadata": {},
          "execution_count": 331
        }
      ]
    },
    {
      "cell_type": "code",
      "source": [
        "## Display column names\n",
        "df.columns"
      ],
      "metadata": {
        "colab": {
          "base_uri": "https://localhost:8080/"
        },
        "id": "kfaZSwNhJOCS",
        "outputId": "df218880-ad95-40c1-8200-ee2f6fcb7cc9"
      },
      "execution_count": 332,
      "outputs": [
        {
          "output_type": "execute_result",
          "data": {
            "text/plain": [
              "Index(['winery', 'wine', 'year', 'rating', 'num_reviews', 'country', 'region',\n",
              "       'price', 'type', 'body', 'acidity'],\n",
              "      dtype='object')"
            ]
          },
          "metadata": {},
          "execution_count": 332
        }
      ]
    },
    {
      "cell_type": "markdown",
      "source": [
        "No errors noted."
      ],
      "metadata": {
        "id": "IHzOnzyRJrAF"
      }
    },
    {
      "cell_type": "code",
      "source": [
        "dgf =df.groupby('type')['price'].mean().sort_values(ascending=False)[:10]\n",
        "print(dgf)\n",
        "plt.figure(figsize=(10, 6))\n",
        "dgf.plot(kind='bar', cmap='viridis')\n",
        "plt.title('Distribution of type in relation to price')"
      ],
      "metadata": {
        "colab": {
          "base_uri": "https://localhost:8080/",
          "height": 926
        },
        "id": "fUm5bM8cXJkK",
        "outputId": "1256d9ac-7fe1-480d-be70-32bf2ccdfbd0"
      },
      "execution_count": 333,
      "outputs": [
        {
          "output_type": "stream",
          "name": "stdout",
          "text": [
            "type\n",
            "Pedro Ximenez           148.874286\n",
            "Ribera Del Duero Red    109.450450\n",
            "Priorat Red             104.794475\n",
            "Chardonnay               78.114615\n",
            "Sparkling                76.794000\n",
            "Toro Red                 76.522264\n",
            "Tempranillo              73.413897\n",
            "Montsant Red             72.024118\n",
            "Cava                     60.547576\n",
            "Grenache                 57.506286\n",
            "Name: price, dtype: float64\n"
          ]
        },
        {
          "output_type": "execute_result",
          "data": {
            "text/plain": [
              "Text(0.5, 1.0, 'Distribution of type in relation to price')"
            ]
          },
          "metadata": {},
          "execution_count": 333
        },
        {
          "output_type": "display_data",
          "data": {
            "text/plain": [
              "<Figure size 1000x600 with 1 Axes>"
            ],
            "image/png": "[encoded data removed]"
          },
          "metadata": {}
        }
      ]
    },
    {
      "cell_type": "markdown",
      "source": [
        "Pedro ximenez has the highest bar of 148.47 entries while Grenache has the lowest bar of 57.5 entries.This shows that Petro ximenez is the most expensive type while Grenache is the least expensive type in the top 10 wine types."
      ],
      "metadata": {
        "id": "uZTMcKc8XM3k"
      }
    },
    {
      "cell_type": "code",
      "source": [
        "df1=df.groupby('region')['price'].mean().sort_values(ascending=False)[:10]\n",
        "print(df1)\n",
        "plt.figure(figsize=(10, 6))\n",
        "df1.plot(kind='bar', cmap='viridis')\n",
        "plt.title('Distribution of Region in relation to price')"
      ],
      "metadata": {
        "colab": {
          "base_uri": "https://localhost:8080/",
          "height": 932
        },
        "id": "YbkM3wOjXTMx",
        "outputId": "633f7ca9-d5d0-41e8-b1b9-c248b5df3307"
      },
      "execution_count": 322,
      "outputs": [
        {
          "output_type": "stream",
          "name": "stdout",
          "text": [
            "region\n",
            "Montilla-Moriles        178.689615\n",
            "Conca de Barbera        164.543333\n",
            "Jerez Palo Cortado      144.475455\n",
            "Mentrida                121.986667\n",
            "Ribera del Duero        109.230364\n",
            "Aragon                  108.505000\n",
            "Priorato                104.089909\n",
            "Dominio de Valdepusa     99.870000\n",
            "Jumilla                  80.576025\n",
            "Arinzano                 76.986667\n",
            "Name: price, dtype: float64\n"
          ]
        },
        {
          "output_type": "execute_result",
          "data": {
            "text/plain": [
              "Text(0.5, 1.0, 'Distribution of Region in relation to price')"
            ]
          },
          "metadata": {},
          "execution_count": 322
        },
        {
          "output_type": "display_data",
          "data": {
            "text/plain": [
              "<Figure size 1000x600 with 1 Axes>"
            ],
            "image/png": "[encoded data removed]"
          },
          "metadata": {}
        }
      ]
    },
    {
      "cell_type": "markdown",
      "source": [
        "Montilla-Morilles has the highest bar of 178.69 entries while Arinzano has the smallest bar of 76.99 entries. Conclusions: Wines are most expensive in Montilla-Morillas while they ae cheapest in Arinzano among the top 10 regions surveyed.\n",
        "\n"
      ],
      "metadata": {
        "id": "uwAvzOBeXgj7"
      }
    },
    {
      "cell_type": "markdown",
      "source": [
        "### **Inspect Values for Errors**"
      ],
      "metadata": {
        "id": "WZd06eFUJvw7"
      }
    },
    {
      "cell_type": "markdown",
      "source": [
        "Check for unusual or impossible values. (Example a weight, or height that is negative in value.)"
      ],
      "metadata": {
        "id": "GZywMJqRJwoD"
      }
    },
    {
      "cell_type": "code",
      "source": [
        "## Display the descriptive statistics for the non-numeric columns\n",
        "df.describe(include=\"number\")"
      ],
      "metadata": {
        "colab": {
          "base_uri": "https://localhost:8080/",
          "height": 301
        },
        "id": "tgfv-B3pJntC",
        "outputId": "b3de7068-0594-4e02-cbd0-240b00334ea1"
      },
      "execution_count": 323,
      "outputs": [
        {
          "output_type": "execute_result",
          "data": {
            "text/plain": [
              "            rating   num_reviews        price         body      acidity\n",
              "count  7500.000000   7500.000000  7500.000000  7500.000000  7500.000000\n",
              "mean      4.254933    451.109067    60.095822     4.158427     2.946612\n",
              "std       0.118029    723.001856   150.356676     0.535958     0.228037\n",
              "min       4.200000     25.000000     4.990000     2.000000     1.000000\n",
              "25%       4.200000    389.000000    18.900000     4.000000     3.000000\n",
              "50%       4.200000    404.000000    28.530000     4.000000     3.000000\n",
              "75%       4.200000    415.000000    51.350000     4.158427     3.000000\n",
              "max       4.900000  32624.000000  3119.080000     5.000000     3.000000"
            ],
            "text/html": [
              "\n",
              "  <div id=\"df-8867f960-2bcc-43da-a74c-ee6469ce5eac\">\n",
              "    <div class=\"colab-df-container\">\n",
              "      <div>\n",
              "<style scoped>\n",
              "    .dataframe tbody tr th:only-of-type {\n",
              "        vertical-align: middle;\n",
              "    }\n",
              "\n",
              "    .dataframe tbody tr th {\n",
              "        vertical-align: top;\n",
              "    }\n",
              "\n",
              "    .dataframe thead th {\n",
              "        text-align: right;\n",
              "    }\n",
              "</style>\n",
              "<table border=\"1\" class=\"dataframe\">\n",
              "  <thead>\n",
              "    <tr style=\"text-align: right;\">\n",
              "      <th></th>\n",
              "      <th>rating</th>\n",
              "      <th>num_reviews</th>\n",
              "      <th>price</th>\n",
              "      <th>body</th>\n",
              "      <th>acidity</th>\n",
              "    </tr>\n",
              "  </thead>\n",
              "  <tbody>\n",
              "    <tr>\n",
              "      <th>count</th>\n",
              "      <td>7500.000000</td>\n",
              "      <td>7500.000000</td>\n",
              "      <td>7500.000000</td>\n",
              "      <td>7500.000000</td>\n",
              "      <td>7500.000000</td>\n",
              "    </tr>\n",
              "    <tr>\n",
              "      <th>mean</th>\n",
              "      <td>4.254933</td>\n",
              "      <td>451.109067</td>\n",
              "      <td>60.095822</td>\n",
              "      <td>4.158427</td>\n",
              "      <td>2.946612</td>\n",
              "    </tr>\n",
              "    <tr>\n",
              "      <th>std</th>\n",
              "      <td>0.118029</td>\n",
              "      <td>723.001856</td>\n",
              "      <td>150.356676</td>\n",
              "      <td>0.535958</td>\n",
              "      <td>0.228037</td>\n",
              "    </tr>\n",
              "    <tr>\n",
              "      <th>min</th>\n",
              "      <td>4.200000</td>\n",
              "      <td>25.000000</td>\n",
              "      <td>4.990000</td>\n",
              "      <td>2.000000</td>\n",
              "      <td>1.000000</td>\n",
              "    </tr>\n",
              "    <tr>\n",
              "      <th>25%</th>\n",
              "      <td>4.200000</td>\n",
              "      <td>389.000000</td>\n",
              "      <td>18.900000</td>\n",
              "      <td>4.000000</td>\n",
              "      <td>3.000000</td>\n",
              "    </tr>\n",
              "    <tr>\n",
              "      <th>50%</th>\n",
              "      <td>4.200000</td>\n",
              "      <td>404.000000</td>\n",
              "      <td>28.530000</td>\n",
              "      <td>4.000000</td>\n",
              "      <td>3.000000</td>\n",
              "    </tr>\n",
              "    <tr>\n",
              "      <th>75%</th>\n",
              "      <td>4.200000</td>\n",
              "      <td>415.000000</td>\n",
              "      <td>51.350000</td>\n",
              "      <td>4.158427</td>\n",
              "      <td>3.000000</td>\n",
              "    </tr>\n",
              "    <tr>\n",
              "      <th>max</th>\n",
              "      <td>4.900000</td>\n",
              "      <td>32624.000000</td>\n",
              "      <td>3119.080000</td>\n",
              "      <td>5.000000</td>\n",
              "      <td>3.000000</td>\n",
              "    </tr>\n",
              "  </tbody>\n",
              "</table>\n",
              "</div>\n",
              "      <button class=\"colab-df-convert\" onclick=\"convertToInteractive('df-8867f960-2bcc-43da-a74c-ee6469ce5eac')\"\n",
              "              title=\"Convert this dataframe to an interactive table.\"\n",
              "              style=\"display:none;\">\n",
              "        \n",
              "  <svg xmlns=\"http://www.w3.org/2000/svg\" height=\"24px\"viewBox=\"0 0 24 24\"\n",
              "       width=\"24px\">\n",
              "    <path d=\"M0 0h24v24H0V0z\" fill=\"none\"/>\n",
              "    <path d=\"M18.56 5.44l.94 2.06.94-2.06 2.06-.94-2.06-.94-.94-2.06-.94 2.06-2.06.94zm-11 1L8.5 8.5l.94-2.06 2.06-.94-2.06-.94L8.5 2.5l-.94 2.06-2.06.94zm10 10l.94 2.06.94-2.06 2.06-.94-2.06-.94-.94-2.06-.94 2.06-2.06.94z\"/><path d=\"M17.41 7.96l-1.37-1.37c-.4-.4-.92-.59-1.43-.59-.52 0-1.04.2-1.43.59L10.3 9.45l-7.72 7.72c-.78.78-.78 2.05 0 2.83L4 21.41c.39.39.9.59 1.41.59.51 0 1.02-.2 1.41-.59l7.78-7.78 2.81-2.81c.8-.78.8-2.07 0-2.86zM5.41 20L4 18.59l7.72-7.72 1.47 1.35L5.41 20z\"/>\n",
              "  </svg>\n",
              "      </button>\n",
              "      \n",
              "  <style>\n",
              "    .colab-df-container {\n",
              "      display:flex;\n",
              "      flex-wrap:wrap;\n",
              "      gap: 12px;\n",
              "    }\n",
              "\n",
              "    .colab-df-convert {\n",
              "      background-color: #E8F0FE;\n",
              "      border: none;\n",
              "      border-radius: 50%;\n",
              "      cursor: pointer;\n",
              "      display: none;\n",
              "      fill: #1967D2;\n",
              "      height: 32px;\n",
              "      padding: 0 0 0 0;\n",
              "      width: 32px;\n",
              "    }\n",
              "\n",
              "    .colab-df-convert:hover {\n",
              "      background-color: #E2EBFA;\n",
              "      box-shadow: 0px 1px 2px rgba(60, 64, 67, 0.3), 0px 1px 3px 1px rgba(60, 64, 67, 0.15);\n",
              "      fill: #174EA6;\n",
              "    }\n",
              "\n",
              "    [theme=dark] .colab-df-convert {\n",
              "      background-color: #3B4455;\n",
              "      fill: #D2E3FC;\n",
              "    }\n",
              "\n",
              "    [theme=dark] .colab-df-convert:hover {\n",
              "      background-color: #434B5C;\n",
              "      box-shadow: 0px 1px 3px 1px rgba(0, 0, 0, 0.15);\n",
              "      filter: drop-shadow(0px 1px 2px rgba(0, 0, 0, 0.3));\n",
              "      fill: #FFFFFF;\n",
              "    }\n",
              "  </style>\n",
              "\n",
              "      <script>\n",
              "        const buttonEl =\n",
              "          document.querySelector('#df-8867f960-2bcc-43da-a74c-ee6469ce5eac button.colab-df-convert');\n",
              "        buttonEl.style.display =\n",
              "          google.colab.kernel.accessAllowed ? 'block' : 'none';\n",
              "\n",
              "        async function convertToInteractive(key) {\n",
              "          const element = document.querySelector('#df-8867f960-2bcc-43da-a74c-ee6469ce5eac');\n",
              "          const dataTable =\n",
              "            await google.colab.kernel.invokeFunction('convertToInteractive',\n",
              "                                                     [key], {});\n",
              "          if (!dataTable) return;\n",
              "\n",
              "          const docLinkHtml = 'Like what you see? Visit the ' +\n",
              "            '<a target=\"_blank\" href=https://colab.research.google.com/notebooks/data_table.ipynb>data table notebook</a>'\n",
              "            + ' to learn more about interactive tables.';\n",
              "          element.innerHTML = '';\n",
              "          dataTable['output_type'] = 'display_data';\n",
              "          await google.colab.output.renderOutput(dataTable, element);\n",
              "          const docLink = document.createElement('div');\n",
              "          docLink.innerHTML = docLinkHtml;\n",
              "          element.appendChild(docLink);\n",
              "        }\n",
              "      </script>\n",
              "    </div>\n",
              "  </div>\n",
              "  "
            ]
          },
          "metadata": {},
          "execution_count": 323
        }
      ]
    },
    {
      "cell_type": "markdown",
      "source": [
        "- No unusual values noted."
      ],
      "metadata": {
        "id": "oP4yMPSYJ692"
      }
    },
    {
      "cell_type": "markdown",
      "source": [
        "Missing Values"
      ],
      "metadata": {
        "id": "pPd-bdYNKILw"
      }
    },
    {
      "cell_type": "code",
      "source": [
        "## Display the total number of missing values\n",
        "print(f'There are {df.isna().sum().sum()} missing values.')"
      ],
      "metadata": {
        "colab": {
          "base_uri": "https://localhost:8080/"
        },
        "id": "ZgKFgWGZJ7tL",
        "outputId": "eb59581f-fbd0-4f63-e298-502a571b82d2"
      },
      "execution_count": 345,
      "outputs": [
        {
          "output_type": "stream",
          "name": "stdout",
          "text": [
            "There are 2 missing values.\n"
          ]
        }
      ]
    },
    {
      "cell_type": "markdown",
      "source": [
        "Model Validation Data Split"
      ],
      "metadata": {
        "id": "Il0FbpEoKV-6"
      }
    },
    {
      "cell_type": "markdown",
      "source": [
        "Create a copy of the database"
      ],
      "metadata": {
        "id": "JevLkT-TKYfI"
      }
    },
    {
      "cell_type": "code",
      "source": [
        "## Create a copy of the dataset for Modeling\n",
        "df = df.copy()"
      ],
      "metadata": {
        "id": "8ve1ZCVfKPkd"
      },
      "execution_count": 346,
      "outputs": []
    },
    {
      "cell_type": "markdown",
      "source": [
        "Check class balance"
      ],
      "metadata": {
        "id": "oCLuvaQfKeGp"
      }
    },
    {
      "cell_type": "code",
      "source": [
        "# select only object columns\n",
        "categoricals = X_train.select_dtypes(include='object')\n",
        "\n",
        "# check value counts for each object column\n",
        "for col in categoricals.columns:\n",
        "  print(col)\n",
        "  print(categoricals[col].value_counts(), '\\n')"
      ],
      "metadata": {
        "colab": {
          "base_uri": "https://localhost:8080/"
        },
        "id": "56hCZpJGM8bB",
        "outputId": "3772f8e6-3ea6-45d5-e24b-5a54460a0e67"
      },
      "execution_count": 347,
      "outputs": [
        {
          "output_type": "stream",
          "name": "stdout",
          "text": [
            "winery\n",
            "Contino             344\n",
            "Artadi              198\n",
            "La Rioja Alta       185\n",
            "Sierra Cantabria    183\n",
            "Matarromera         179\n",
            "                   ... \n",
            "Pazo Barrantes        1\n",
            "Codorniu              1\n",
            "Francisco Barona      1\n",
            "Casa Rojo             1\n",
            "A Coroa               1\n",
            "Name: winery, Length: 431, dtype: int64 \n",
            "\n",
            "wine\n",
            "Gran Reserva                               349\n",
            "Reserva                                    349\n",
            "Rioja Reserva                              183\n",
            "Coleccion Privada                          175\n",
            "Gran Reserva Rioja                         174\n",
            "                                          ... \n",
            "Doroteo Edicion Especial 25 Aniversario      1\n",
            "Martires Rioja                               1\n",
            "Toro 2V Premium                              1\n",
            "Iugiter                                      1\n",
            "Alba de Miros Rueda Verdejo                  1\n",
            "Name: wine, Length: 717, dtype: int64 \n",
            "\n",
            "year\n",
            "2011    886\n",
            "2016    687\n",
            "2015    647\n",
            "2018    619\n",
            "2017    551\n",
            "       ... \n",
            "1949      1\n",
            "1928      1\n",
            "1976      1\n",
            "1972      1\n",
            "1983      1\n",
            "Name: year, Length: 65, dtype: int64 \n",
            "\n",
            "country\n",
            "Espana    5625\n",
            "Name: country, dtype: int64 \n",
            "\n",
            "region\n",
            "Rioja                  1841\n",
            "Ribera del Duero       1057\n",
            "Priorato                522\n",
            "Toro                    220\n",
            "Vino de Espana          198\n",
            "                       ... \n",
            "Binissalem-Mallorca       1\n",
            "Valdejalon                1\n",
            "Condado de Huelva         1\n",
            "Pago Calzadilla           1\n",
            "Otazu                     1\n",
            "Name: region, Length: 74, dtype: int64 \n",
            "\n",
            "type\n",
            "Rioja Red               1788\n",
            "Ribera Del Duero Red    1054\n",
            "Red                      640\n",
            "Priorat Red              514\n",
            "Rioja red                399\n",
            "Tempranillo              218\n",
            "Toro Red                 217\n",
            "Sherry                   199\n",
            "Albarino                 186\n",
            "Mencia                   174\n",
            "Rioja White               63\n",
            "Grenache                  30\n",
            "Cava                      29\n",
            "Pedro Ximenez             28\n",
            "Verdejo                   21\n",
            "Montsant Red              15\n",
            "Monastrell                14\n",
            "Chardonnay                11\n",
            "Syrah                     10\n",
            "Cabernet Sauvignon         9\n",
            "Sparkling                  3\n",
            "Sauvignon Blanc            3\n",
            "Name: type, dtype: int64 \n",
            "\n"
          ]
        }
      ]
    },
    {
      "cell_type": "code",
      "source": [
        "plt.figure(figsize=(10,8))\n",
        "sns.countplot(y='winery',data=df, order=df['winery'].value_counts().index[:11])\n",
        "plt.title('Distribution of Winery')\n",
        "plt.show()"
      ],
      "metadata": {
        "colab": {
          "base_uri": "https://localhost:8080/",
          "height": 718
        },
        "id": "u0e5t53A2FZB",
        "outputId": "2bd8132b-aa2e-4196-b1c5-4c016d88f17a"
      },
      "execution_count": 348,
      "outputs": [
        {
          "output_type": "display_data",
          "data": {
            "text/plain": [
              "<Figure size 1000x800 with 1 Axes>"
            ],
            "image/png": "[encoded data removed]"
          },
          "metadata": {}
        }
      ]
    },
    {
      "cell_type": "markdown",
      "source": [
        "contina has the highest bar of more than 400 entries, Arcadi comes 2nd with approximately 300 entries.The rest have bars that are almost the same. conclusions: Contino is the most dominant winery, arcadi is the 2nd most dominant while the rest have almost the same distibution.\n",
        "\n"
      ],
      "metadata": {
        "id": "KdQe5-oZYF_i"
      }
    },
    {
      "cell_type": "code",
      "source": [
        "plt.figure(figsize=(12, 8))\n",
        "sns.heatmap(df.corr(),annot=True)\n",
        "plt.title('Correlation of various variables')\n",
        "plt.show()"
      ],
      "metadata": {
        "colab": {
          "base_uri": "https://localhost:8080/",
          "height": 699
        },
        "id": "AYgn7Sy1Xwc1",
        "outputId": "cdebff69-e64b-4f83-d640-3c055c2308d0"
      },
      "execution_count": 349,
      "outputs": [
        {
          "output_type": "display_data",
          "data": {
            "text/plain": [
              "<Figure size 1200x800 with 2 Axes>"
            ],
            "image/png": "[encoded data removed]"
          },
          "metadata": {}
        }
      ]
    },
    {
      "cell_type": "markdown",
      "source": [
        "\n",
        "Correlation shows degree of linear relationship between variables.It varies from -1 to 1.price and ratings have the highest ratings of 54% mening that they are fairly positive correlated thus when ratings increase, price increase with approximately 50% of the initial increase in ratings. num-reviews and acidity have the lowest positive correlation of 3.7% meaning that number of rviews are lowly affected by the acidity of the wine thus low correlation."
      ],
      "metadata": {
        "id": "gKDTy_YhXzX2"
      }
    },
    {
      "cell_type": "markdown",
      "source": [
        "Split the data"
      ],
      "metadata": {
        "id": "_igWQga-MQN1"
      }
    },
    {
      "cell_type": "code",
      "source": [
        "## Define features (X) and target (y)\n",
        "target = 'rating'\n",
        "X = df.drop(columns = [target]).copy()\n",
        "y = df[target].copy()"
      ],
      "metadata": {
        "id": "-Fg64c1bYdcV"
      },
      "execution_count": 350,
      "outputs": []
    },
    {
      "cell_type": "code",
      "source": [
        "## Split the dataset\n",
        "X_train, X_test, y_train, y_test = train_test_split(X, y, stratify=y, random_state=42)"
      ],
      "metadata": {
        "id": "Gou4yYXUMWT6"
      },
      "execution_count": 351,
      "outputs": []
    },
    {
      "cell_type": "code",
      "source": [
        "#instantiate the StandardScaler, OneHotEncoder, OrdinalEncoder and Imputers\n",
        "\n",
        "freq_imputer = SimpleImputer(strategy='most_frequent')\n",
        "mean_imputer = SimpleImputer(strategy='mean')\n",
        "\n",
        "scaler = StandardScaler()\n",
        "\n",
        "ohe = OneHotEncoder(handle_unknown='ignore', sparse=False)"
      ],
      "metadata": {
        "id": "TNDwdnRCYhBD"
      },
      "execution_count": 352,
      "outputs": []
    },
    {
      "cell_type": "code",
      "source": [
        "# Selectors\n",
        "num_selector = make_column_selector(dtype_include='number')\n",
        "cat_selector = make_column_selector(dtype_include='object')"
      ],
      "metadata": {
        "id": "VRTQVBqIYiaD"
      },
      "execution_count": 353,
      "outputs": []
    },
    {
      "cell_type": "code",
      "source": [
        "number_tuple=(scaler, num_selector)\n",
        "category_tuple = (ohe, cat_selector)"
      ],
      "metadata": {
        "id": "dWmr872AYmyj"
      },
      "execution_count": 355,
      "outputs": []
    },
    {
      "cell_type": "code",
      "source": [
        "##Create the preprocessir using make_Column transformer\n",
        "preprocessor = make_column_transformer(category_tuple, \n",
        "                                       remainder='drop')"
      ],
      "metadata": {
        "id": "B5hE7MnNYvS8"
      },
      "execution_count": 354,
      "outputs": []
    }
  ]
}