{
  "cells": [
    {
      "cell_type": "markdown",
      "metadata": {
        "id": "view-in-github",
        "colab_type": "text"
      },
      "source": [
        "<a href=\"https://colab.research.google.com/github/Juribe7980/Project-1/blob/main/Project_2_part_4(2).ipynb\" target=\"_parent\"><img src=\"https://colab.research.google.com/assets/colab-badge.svg\" alt=\"Open In Colab\"/></a>"
      ]
    },
    {
      "cell_type": "markdown",
      "metadata": {
        "id": "2g3piQ3FK2JE"
      },
      "source": [
        "Wines of Spain\n",
        "\n",
        "by Jessica Uribe"
      ]
    },
    {
      "cell_type": "markdown",
      "metadata": {
        "id": "YF-Z9sRHWh6-"
      },
      "source": [
        "Context\n",
        "This dataset is related to red variants of spanish wines. The dataset describes several popularity and description metrics their effect on it's quality. The datasets can be used for classification or regression tasks. The classes are ordered and not balanced (i.e. the quality goes from almost 5 to 4 points). The task is to predict either the quality of wine or the prices using the given data.\n",
        "\n",
        "Content\n",
        "The dataset contains 7500 different types of red wines from Spain with 11 features that describe their price, rating, and even some flavor description. The was collected by me using web scraping from different sources (from wine specialized pages to supermarkets). Please acknowledge the hard work to obtain and create this dataset, you can upvote it if you find it useful to use on your projects :)\n",
        "\n",
        "If the dataset becomes popular I will probably try to create a bigger version with wines from other countries and a wider spectrum of ratings.\n",
        "\n",
        "\n",
        "\n",
        "Attribute Information\n",
        "\n",
        "\n",
        "\n",
        "\n",
        "winery: Winery name\n",
        "\n",
        "wine: Name of the wine\n",
        "\n",
        "year: Year in which the grapes were harvested\n",
        "\n",
        "rating: Average rating given to the wine by the users [from 1-5]\n",
        "\n",
        "num_reviews: Number of users that reviewed the wine\n",
        "\n",
        "country: Country of origin [Spain]\n",
        "\n",
        "region: Region of the wine\n",
        "\n",
        "price: Price in euros [€]\n",
        "\n",
        "type: Wine variety\n",
        "\n",
        "body: Body score, defined as the richness and weight of the wine in your mouth [from 1-5]\n",
        "\n",
        "acidity: Acidity score, defined as wine's “pucker” or tartness; it's what makes a wine refreshing and your tongue salivate and want another sip [from 1-5]"
      ]
    },
    {
      "cell_type": "markdown",
      "metadata": {
        "id": "DuwV54yCIBJH"
      },
      "source": [
        "Source\n",
        "\n",
        "https://www.kaggle.com/datasets/fedesoriano/spanish-wine-quality-dataset\n"
      ]
    },
    {
      "cell_type": "code",
      "execution_count": 2,
      "metadata": {
        "id": "uZP7Vca6tX7l"
      },
      "outputs": [],
      "source": [
        "## Pandas\n",
        "import pandas as pd\n",
        "## Numpy\n",
        "import numpy as np\n",
        "# MatPlotLib\n",
        "import matplotlib.pyplot as plt\n",
        "## seaborn\n",
        "import seaborn as sns\n",
        "\n",
        "## Preprocessing\n",
        "from sklearn.model_selection import train_test_split, GridSearchCV\n",
        "from sklearn.compose import make_column_selector, make_column_transformer\n",
        "from sklearn.preprocessing import StandardScaler, OneHotEncoder\n",
        "from sklearn.pipeline import make_pipeline\n",
        "from sklearn.impute import SimpleImputer\n",
        "from sklearn.compose import make_column_transformer\n",
        "\n",
        "## Models\n",
        "from sklearn.neighbors import KNeighborsClassifier\n",
        "from sklearn.tree import DecisionTreeClassifier\n",
        "from sklearn.decomposition import PCA\n",
        "\n",
        "## Regression Metrics\n",
        "from sklearn.metrics import mean_absolute_error, r2_score, mean_squared_error, \\\n",
        "precision_score, recall_score, accuracy_score, f1_score, ConfusionMatrixDisplay, \\\n",
        "classification_report\n",
        "\n",
        "\n",
        "\n",
        "## Set global scikit-learn configuration \n",
        "from sklearn import set_config\n",
        "## Display estimators as a diagram\n",
        "set_config(display='diagram') # 'text' or 'diagram'}\n",
        "import warnings\n",
        "warnings.simplefilter('ignore')"
      ]
    },
    {
      "cell_type": "code",
      "execution_count": 3,
      "metadata": {
        "colab": {
          "base_uri": "https://localhost:8080/"
        },
        "id": "ypanbgIoewKb",
        "outputId": "3e59c076-602e-4578-d4fb-c1146f317104"
      },
      "outputs": [
        {
          "output_type": "stream",
          "name": "stdout",
          "text": [
            "Mounted at /content/drive\n"
          ]
        }
      ],
      "source": [
        "from google.colab import drive\n",
        "drive.mount('/content/drive')"
      ]
    },
    {
      "cell_type": "code",
      "execution_count": 4,
      "metadata": {
        "colab": {
          "base_uri": "https://localhost:8080/",
          "height": 206
        },
        "id": "O1C1GZSxH_LJ",
        "outputId": "136e5407-16ed-4e69-9cb0-86a96ab646b8"
      },
      "outputs": [
        {
          "output_type": "execute_result",
          "data": {
            "text/plain": [
              "          winery           wine  year  rating  num_reviews country  \\\n",
              "0  Teso La Monja          Tinto  2013     4.9           58  Espana   \n",
              "1         Artadi  Vina El Pison  2018     4.9           31  Espana   \n",
              "2   Vega Sicilia          Unico  2009     4.8         1793  Espana   \n",
              "3   Vega Sicilia          Unico  1999     4.8         1705  Espana   \n",
              "4   Vega Sicilia          Unico  1996     4.8         1309  Espana   \n",
              "\n",
              "             region   price                  type  body  acidity  \n",
              "0              Toro  995.00              Toro Red   5.0      3.0  \n",
              "1    Vino de Espana  313.50           Tempranillo   4.0      2.0  \n",
              "2  Ribera del Duero  324.95  Ribera Del Duero Red   5.0      3.0  \n",
              "3  Ribera del Duero  692.96  Ribera Del Duero Red   5.0      3.0  \n",
              "4  Ribera del Duero  778.06  Ribera Del Duero Red   5.0      3.0  "
            ],
            "text/html": [
              "\n",
              "  <div id=\"df-7f426ff3-9037-4098-9c78-b37f30e03d28\">\n",
              "    <div class=\"colab-df-container\">\n",
              "      <div>\n",
              "<style scoped>\n",
              "    .dataframe tbody tr th:only-of-type {\n",
              "        vertical-align: middle;\n",
              "    }\n",
              "\n",
              "    .dataframe tbody tr th {\n",
              "        vertical-align: top;\n",
              "    }\n",
              "\n",
              "    .dataframe thead th {\n",
              "        text-align: right;\n",
              "    }\n",
              "</style>\n",
              "<table border=\"1\" class=\"dataframe\">\n",
              "  <thead>\n",
              "    <tr style=\"text-align: right;\">\n",
              "      <th></th>\n",
              "      <th>winery</th>\n",
              "      <th>wine</th>\n",
              "      <th>year</th>\n",
              "      <th>rating</th>\n",
              "      <th>num_reviews</th>\n",
              "      <th>country</th>\n",
              "      <th>region</th>\n",
              "      <th>price</th>\n",
              "      <th>type</th>\n",
              "      <th>body</th>\n",
              "      <th>acidity</th>\n",
              "    </tr>\n",
              "  </thead>\n",
              "  <tbody>\n",
              "    <tr>\n",
              "      <th>0</th>\n",
              "      <td>Teso La Monja</td>\n",
              "      <td>Tinto</td>\n",
              "      <td>2013</td>\n",
              "      <td>4.9</td>\n",
              "      <td>58</td>\n",
              "      <td>Espana</td>\n",
              "      <td>Toro</td>\n",
              "      <td>995.00</td>\n",
              "      <td>Toro Red</td>\n",
              "      <td>5.0</td>\n",
              "      <td>3.0</td>\n",
              "    </tr>\n",
              "    <tr>\n",
              "      <th>1</th>\n",
              "      <td>Artadi</td>\n",
              "      <td>Vina El Pison</td>\n",
              "      <td>2018</td>\n",
              "      <td>4.9</td>\n",
              "      <td>31</td>\n",
              "      <td>Espana</td>\n",
              "      <td>Vino de Espana</td>\n",
              "      <td>313.50</td>\n",
              "      <td>Tempranillo</td>\n",
              "      <td>4.0</td>\n",
              "      <td>2.0</td>\n",
              "    </tr>\n",
              "    <tr>\n",
              "      <th>2</th>\n",
              "      <td>Vega Sicilia</td>\n",
              "      <td>Unico</td>\n",
              "      <td>2009</td>\n",
              "      <td>4.8</td>\n",
              "      <td>1793</td>\n",
              "      <td>Espana</td>\n",
              "      <td>Ribera del Duero</td>\n",
              "      <td>324.95</td>\n",
              "      <td>Ribera Del Duero Red</td>\n",
              "      <td>5.0</td>\n",
              "      <td>3.0</td>\n",
              "    </tr>\n",
              "    <tr>\n",
              "      <th>3</th>\n",
              "      <td>Vega Sicilia</td>\n",
              "      <td>Unico</td>\n",
              "      <td>1999</td>\n",
              "      <td>4.8</td>\n",
              "      <td>1705</td>\n",
              "      <td>Espana</td>\n",
              "      <td>Ribera del Duero</td>\n",
              "      <td>692.96</td>\n",
              "      <td>Ribera Del Duero Red</td>\n",
              "      <td>5.0</td>\n",
              "      <td>3.0</td>\n",
              "    </tr>\n",
              "    <tr>\n",
              "      <th>4</th>\n",
              "      <td>Vega Sicilia</td>\n",
              "      <td>Unico</td>\n",
              "      <td>1996</td>\n",
              "      <td>4.8</td>\n",
              "      <td>1309</td>\n",
              "      <td>Espana</td>\n",
              "      <td>Ribera del Duero</td>\n",
              "      <td>778.06</td>\n",
              "      <td>Ribera Del Duero Red</td>\n",
              "      <td>5.0</td>\n",
              "      <td>3.0</td>\n",
              "    </tr>\n",
              "  </tbody>\n",
              "</table>\n",
              "</div>\n",
              "      <button class=\"colab-df-convert\" onclick=\"convertToInteractive('df-7f426ff3-9037-4098-9c78-b37f30e03d28')\"\n",
              "              title=\"Convert this dataframe to an interactive table.\"\n",
              "              style=\"display:none;\">\n",
              "        \n",
              "  <svg xmlns=\"http://www.w3.org/2000/svg\" height=\"24px\"viewBox=\"0 0 24 24\"\n",
              "       width=\"24px\">\n",
              "    <path d=\"M0 0h24v24H0V0z\" fill=\"none\"/>\n",
              "    <path d=\"M18.56 5.44l.94 2.06.94-2.06 2.06-.94-2.06-.94-.94-2.06-.94 2.06-2.06.94zm-11 1L8.5 8.5l.94-2.06 2.06-.94-2.06-.94L8.5 2.5l-.94 2.06-2.06.94zm10 10l.94 2.06.94-2.06 2.06-.94-2.06-.94-.94-2.06-.94 2.06-2.06.94z\"/><path d=\"M17.41 7.96l-1.37-1.37c-.4-.4-.92-.59-1.43-.59-.52 0-1.04.2-1.43.59L10.3 9.45l-7.72 7.72c-.78.78-.78 2.05 0 2.83L4 21.41c.39.39.9.59 1.41.59.51 0 1.02-.2 1.41-.59l7.78-7.78 2.81-2.81c.8-.78.8-2.07 0-2.86zM5.41 20L4 18.59l7.72-7.72 1.47 1.35L5.41 20z\"/>\n",
              "  </svg>\n",
              "      </button>\n",
              "      \n",
              "  <style>\n",
              "    .colab-df-container {\n",
              "      display:flex;\n",
              "      flex-wrap:wrap;\n",
              "      gap: 12px;\n",
              "    }\n",
              "\n",
              "    .colab-df-convert {\n",
              "      background-color: #E8F0FE;\n",
              "      border: none;\n",
              "      border-radius: 50%;\n",
              "      cursor: pointer;\n",
              "      display: none;\n",
              "      fill: #1967D2;\n",
              "      height: 32px;\n",
              "      padding: 0 0 0 0;\n",
              "      width: 32px;\n",
              "    }\n",
              "\n",
              "    .colab-df-convert:hover {\n",
              "      background-color: #E2EBFA;\n",
              "      box-shadow: 0px 1px 2px rgba(60, 64, 67, 0.3), 0px 1px 3px 1px rgba(60, 64, 67, 0.15);\n",
              "      fill: #174EA6;\n",
              "    }\n",
              "\n",
              "    [theme=dark] .colab-df-convert {\n",
              "      background-color: #3B4455;\n",
              "      fill: #D2E3FC;\n",
              "    }\n",
              "\n",
              "    [theme=dark] .colab-df-convert:hover {\n",
              "      background-color: #434B5C;\n",
              "      box-shadow: 0px 1px 3px 1px rgba(0, 0, 0, 0.15);\n",
              "      filter: drop-shadow(0px 1px 2px rgba(0, 0, 0, 0.3));\n",
              "      fill: #FFFFFF;\n",
              "    }\n",
              "  </style>\n",
              "\n",
              "      <script>\n",
              "        const buttonEl =\n",
              "          document.querySelector('#df-7f426ff3-9037-4098-9c78-b37f30e03d28 button.colab-df-convert');\n",
              "        buttonEl.style.display =\n",
              "          google.colab.kernel.accessAllowed ? 'block' : 'none';\n",
              "\n",
              "        async function convertToInteractive(key) {\n",
              "          const element = document.querySelector('#df-7f426ff3-9037-4098-9c78-b37f30e03d28');\n",
              "          const dataTable =\n",
              "            await google.colab.kernel.invokeFunction('convertToInteractive',\n",
              "                                                     [key], {});\n",
              "          if (!dataTable) return;\n",
              "\n",
              "          const docLinkHtml = 'Like what you see? Visit the ' +\n",
              "            '<a target=\"_blank\" href=https://colab.research.google.com/notebooks/data_table.ipynb>data table notebook</a>'\n",
              "            + ' to learn more about interactive tables.';\n",
              "          element.innerHTML = '';\n",
              "          dataTable['output_type'] = 'display_data';\n",
              "          await google.colab.output.renderOutput(dataTable, element);\n",
              "          const docLink = document.createElement('div');\n",
              "          docLink.innerHTML = docLinkHtml;\n",
              "          element.appendChild(docLink);\n",
              "        }\n",
              "      </script>\n",
              "    </div>\n",
              "  </div>\n",
              "  "
            ]
          },
          "metadata": {},
          "execution_count": 4
        }
      ],
      "source": [
        "df = pd.read_csv('/content/drive/MyDrive/Week 5(JJ) Regression and classification/wines_SPA.csv')\n",
        "df.head()"
      ]
    },
    {
      "cell_type": "code",
      "execution_count": 5,
      "metadata": {
        "colab": {
          "base_uri": "https://localhost:8080/"
        },
        "id": "9ZRymfJ-I6RR",
        "outputId": "adb0a582-dfb6-49c2-a35d-f6668068479d"
      },
      "outputs": [
        {
          "output_type": "stream",
          "name": "stdout",
          "text": [
            "There are 7500 rows, and 11 columns.\n",
            "The rows represent 7500 observations, and the columns represent 10 features and 1 target variable.\n"
          ]
        }
      ],
      "source": [
        "## Display the number of rows and columns for the dataframe\n",
        "df.shape\n",
        "print(f'There are {df.shape[0]} rows, and {df.shape[1]} columns.')\n",
        "print(f'The rows represent {df.shape[0]} observations, and the columns represent {df.shape[1]-1} features and 1 target variable.')"
      ]
    },
    {
      "cell_type": "code",
      "execution_count": 6,
      "metadata": {
        "id": "3HNaIpv_KGBZ"
      },
      "outputs": [],
      "source": [
        "#Decided to drop wiery since there is the only value in the column\n",
        "df.drop(columns='country', inplace=True)\n"
      ]
    },
    {
      "cell_type": "code",
      "execution_count": 7,
      "metadata": {
        "colab": {
          "base_uri": "https://localhost:8080/"
        },
        "id": "YZTs-HB4aF88",
        "outputId": "dfd4df5e-e010-4d25-d6dc-0bac7ce928f6"
      },
      "outputs": [
        {
          "output_type": "execute_result",
          "data": {
            "text/plain": [
              "winery            0\n",
              "wine              0\n",
              "year              2\n",
              "rating            0\n",
              "num_reviews       0\n",
              "region            0\n",
              "price             0\n",
              "type            545\n",
              "body           1169\n",
              "acidity        1169\n",
              "dtype: int64"
            ]
          },
          "metadata": {},
          "execution_count": 7
        }
      ],
      "source": [
        "# checking null values\n",
        "df.isnull().sum()"
      ]
    },
    {
      "cell_type": "markdown",
      "metadata": {
        "id": "x01bM2xIcZuI"
      },
      "source": [
        "Identified null values on the year column"
      ]
    },
    {
      "cell_type": "code",
      "execution_count": 8,
      "metadata": {
        "colab": {
          "base_uri": "https://localhost:8080/"
        },
        "id": "9fT0h0aqMjue",
        "outputId": "32bc4580-1212-4212-a2ff-d1fabd93dbdf"
      },
      "outputs": [
        {
          "output_type": "execute_result",
          "data": {
            "text/plain": [
              "0       2013\n",
              "1       2018\n",
              "2       2009\n",
              "3       1999\n",
              "4       1996\n",
              "        ... \n",
              "7495    2016\n",
              "7496    2018\n",
              "7497    2017\n",
              "7498    2011\n",
              "7499    2016\n",
              "Name: year, Length: 7500, dtype: object"
            ]
          },
          "metadata": {},
          "execution_count": 8
        }
      ],
      "source": [
        "df['year']\n"
      ]
    },
    {
      "cell_type": "code",
      "execution_count": 9,
      "metadata": {
        "colab": {
          "base_uri": "https://localhost:8080/"
        },
        "id": "M9yQz7x9Uwqs",
        "outputId": "e8b8a5ef-b617-45e4-cb52-6f2d52ed9b98"
      },
      "outputs": [
        {
          "output_type": "execute_result",
          "data": {
            "text/plain": [
              "2011    0.158709\n",
              "2016    0.119632\n",
              "2015    0.114697\n",
              "2018    0.113364\n",
              "2017    0.097493\n",
              "          ...   \n",
              "1953    0.000133\n",
              "1972    0.000133\n",
              "1974    0.000133\n",
              "1931    0.000133\n",
              "1925    0.000133\n",
              "Name: year, Length: 71, dtype: float64"
            ]
          },
          "metadata": {},
          "execution_count": 9
        }
      ],
      "source": [
        "df['year'].value_counts(normalize = True)"
      ]
    },
    {
      "cell_type": "code",
      "execution_count": 10,
      "metadata": {
        "id": "IKaxrb0iNaOm"
      },
      "outputs": [],
      "source": [
        "counts = df['year'].value_counts(normalize = True)"
      ]
    },
    {
      "cell_type": "markdown",
      "source": [
        "Any year that have less than 5% of occurance \"frequency will be removed\" for that reason need to filter down the years"
      ],
      "metadata": {
        "id": "BFHVXy5WUXNv"
      }
    },
    {
      "cell_type": "code",
      "execution_count": 11,
      "metadata": {
        "colab": {
          "base_uri": "https://localhost:8080/"
        },
        "id": "GEfpvMLgNj4V",
        "outputId": "00973bfb-2bea-40c4-86aa-e5caf6a0e753"
      },
      "outputs": [
        {
          "output_type": "execute_result",
          "data": {
            "text/plain": [
              "2011     True\n",
              "2016     True\n",
              "2015     True\n",
              "2018     True\n",
              "2017     True\n",
              "        ...  \n",
              "1953    False\n",
              "1972    False\n",
              "1974    False\n",
              "1931    False\n",
              "1925    False\n",
              "Name: year, Length: 71, dtype: bool"
            ]
          },
          "metadata": {},
          "execution_count": 11
        }
      ],
      "source": [
        "counts > .05"
      ]
    },
    {
      "cell_type": "markdown",
      "source": [
        "Filter the data for that purpose"
      ],
      "metadata": {
        "id": "-AwgJbpEUgd0"
      }
    },
    {
      "cell_type": "code",
      "execution_count": 12,
      "metadata": {
        "id": "wfyFls-ENz4W"
      },
      "outputs": [],
      "source": [
        "year_filter = counts > .05"
      ]
    },
    {
      "cell_type": "code",
      "execution_count": 13,
      "metadata": {
        "colab": {
          "base_uri": "https://localhost:8080/"
        },
        "id": "gNG-4o86N6o_",
        "outputId": "9aea9e0c-a68e-49d3-9206-cfd6eedc5907"
      },
      "outputs": [
        {
          "output_type": "execute_result",
          "data": {
            "text/plain": [
              "2011    0.158709\n",
              "2016    0.119632\n",
              "2015    0.114697\n",
              "2018    0.113364\n",
              "2017    0.097493\n",
              "2012    0.070419\n",
              "2020    0.063217\n",
              "2014    0.050147\n",
              "Name: year, dtype: float64"
            ]
          },
          "metadata": {},
          "execution_count": 13
        }
      ],
      "source": [
        "counts.loc[year_filter]"
      ]
    },
    {
      "cell_type": "code",
      "execution_count": 14,
      "metadata": {
        "colab": {
          "base_uri": "https://localhost:8080/"
        },
        "id": "3zyRU-7WODxz",
        "outputId": "ce745ced-69df-4c4d-88de-75c12b5426dd"
      },
      "outputs": [
        {
          "output_type": "execute_result",
          "data": {
            "text/plain": [
              "Index(['2011', '2016', '2015', '2018', '2017', '2012', '2020', '2014'], dtype='object')"
            ]
          },
          "metadata": {},
          "execution_count": 14
        }
      ],
      "source": [
        "good_years = counts.loc[year_filter].index\n",
        "good_years"
      ]
    },
    {
      "cell_type": "code",
      "execution_count": 15,
      "metadata": {
        "colab": {
          "base_uri": "https://localhost:8080/"
        },
        "id": "Woig__xvislQ",
        "outputId": "281cf1c1-ed74-4be8-e961-d7f792bdafaf"
      },
      "outputs": [
        {
          "output_type": "execute_result",
          "data": {
            "text/plain": [
              "2011    1190\n",
              "2012     528\n",
              "2014     376\n",
              "2015     860\n",
              "2016     897\n",
              "2017     731\n",
              "2018     850\n",
              "2020     474\n",
              "Name: year, dtype: int64"
            ]
          },
          "metadata": {},
          "execution_count": 15
        }
      ],
      "source": [
        "#Any year that have less than 5% of occurance \"frequency will be removed\"\n",
        "df= df[df['year'].isin (good_years)]\n",
        "\n",
        "df['year'].value_counts().sort_index()"
      ]
    },
    {
      "cell_type": "code",
      "execution_count": 16,
      "metadata": {
        "id": "3N3kEoKOTog7"
      },
      "outputs": [],
      "source": [
        "#Convert year to categorical\n",
        "df['year'] = df['year'].astype('object')"
      ]
    },
    {
      "cell_type": "markdown",
      "metadata": {
        "id": "lZce0omwUUb6"
      },
      "source": [
        "Binning the Target"
      ]
    },
    {
      "cell_type": "code",
      "execution_count": 17,
      "metadata": {
        "colab": {
          "base_uri": "https://localhost:8080/"
        },
        "id": "dSvkShhwUTz1",
        "outputId": "ae0985f5-c236-49eb-ab66-0965c837b056"
      },
      "outputs": [
        {
          "output_type": "execute_result",
          "data": {
            "text/plain": [
              "1     4.9\n",
              "8     4.8\n",
              "9     4.8\n",
              "10    4.8\n",
              "11    4.8\n",
              "Name: rating, dtype: float64"
            ]
          },
          "metadata": {},
          "execution_count": 17
        }
      ],
      "source": [
        "df['rating'].head()"
      ]
    },
    {
      "cell_type": "code",
      "execution_count": 18,
      "metadata": {
        "id": "Zi_AEb-rPoPD"
      },
      "outputs": [],
      "source": [
        "Three_stars = [4.2, 4.3]\n",
        "Four_stars = [4.4, 4.5, 4.6]\n",
        "Five_stars = [4.7, 4.8, 4.9]"
      ]
    },
    {
      "cell_type": "code",
      "execution_count": 19,
      "metadata": {
        "colab": {
          "base_uri": "https://localhost:8080/",
          "height": 206
        },
        "id": "xv4sQlY-Wr01",
        "outputId": "ff49f592-50cc-47fc-9506-e030d5f70ffb"
      },
      "outputs": [
        {
          "output_type": "execute_result",
          "data": {
            "text/plain": [
              "                 winery                            wine  year  rating  \\\n",
              "1                Artadi                   Vina El Pison  2018       2   \n",
              "8          Vega Sicilia  Unico Reserva Especial Edicion  2015       2   \n",
              "9          Vega Sicilia                           Unico  2011       2   \n",
              "10         Vega Sicilia  Unico Reserva Especial Edicion  2016       2   \n",
              "11  Pago de Carraovejas                       El Anejon  2016       2   \n",
              "\n",
              "    num_reviews            region   price                  type  body  acidity  \n",
              "1            31    Vino de Espana  313.50           Tempranillo   4.0      2.0  \n",
              "8           643  Ribera del Duero  345.00  Ribera Del Duero Red   5.0      3.0  \n",
              "9           630  Ribera del Duero  315.00  Ribera Del Duero Red   5.0      3.0  \n",
              "10          591  Ribera del Duero  514.85  Ribera Del Duero Red   5.0      3.0  \n",
              "11          454  Ribera del Duero  105.15  Ribera Del Duero Red   5.0      3.0  "
            ],
            "text/html": [
              "\n",
              "  <div id=\"df-03e09298-52e9-4121-b0d3-2d7d38e6347a\">\n",
              "    <div class=\"colab-df-container\">\n",
              "      <div>\n",
              "<style scoped>\n",
              "    .dataframe tbody tr th:only-of-type {\n",
              "        vertical-align: middle;\n",
              "    }\n",
              "\n",
              "    .dataframe tbody tr th {\n",
              "        vertical-align: top;\n",
              "    }\n",
              "\n",
              "    .dataframe thead th {\n",
              "        text-align: right;\n",
              "    }\n",
              "</style>\n",
              "<table border=\"1\" class=\"dataframe\">\n",
              "  <thead>\n",
              "    <tr style=\"text-align: right;\">\n",
              "      <th></th>\n",
              "      <th>winery</th>\n",
              "      <th>wine</th>\n",
              "      <th>year</th>\n",
              "      <th>rating</th>\n",
              "      <th>num_reviews</th>\n",
              "      <th>region</th>\n",
              "      <th>price</th>\n",
              "      <th>type</th>\n",
              "      <th>body</th>\n",
              "      <th>acidity</th>\n",
              "    </tr>\n",
              "  </thead>\n",
              "  <tbody>\n",
              "    <tr>\n",
              "      <th>1</th>\n",
              "      <td>Artadi</td>\n",
              "      <td>Vina El Pison</td>\n",
              "      <td>2018</td>\n",
              "      <td>2</td>\n",
              "      <td>31</td>\n",
              "      <td>Vino de Espana</td>\n",
              "      <td>313.50</td>\n",
              "      <td>Tempranillo</td>\n",
              "      <td>4.0</td>\n",
              "      <td>2.0</td>\n",
              "    </tr>\n",
              "    <tr>\n",
              "      <th>8</th>\n",
              "      <td>Vega Sicilia</td>\n",
              "      <td>Unico Reserva Especial Edicion</td>\n",
              "      <td>2015</td>\n",
              "      <td>2</td>\n",
              "      <td>643</td>\n",
              "      <td>Ribera del Duero</td>\n",
              "      <td>345.00</td>\n",
              "      <td>Ribera Del Duero Red</td>\n",
              "      <td>5.0</td>\n",
              "      <td>3.0</td>\n",
              "    </tr>\n",
              "    <tr>\n",
              "      <th>9</th>\n",
              "      <td>Vega Sicilia</td>\n",
              "      <td>Unico</td>\n",
              "      <td>2011</td>\n",
              "      <td>2</td>\n",
              "      <td>630</td>\n",
              "      <td>Ribera del Duero</td>\n",
              "      <td>315.00</td>\n",
              "      <td>Ribera Del Duero Red</td>\n",
              "      <td>5.0</td>\n",
              "      <td>3.0</td>\n",
              "    </tr>\n",
              "    <tr>\n",
              "      <th>10</th>\n",
              "      <td>Vega Sicilia</td>\n",
              "      <td>Unico Reserva Especial Edicion</td>\n",
              "      <td>2016</td>\n",
              "      <td>2</td>\n",
              "      <td>591</td>\n",
              "      <td>Ribera del Duero</td>\n",
              "      <td>514.85</td>\n",
              "      <td>Ribera Del Duero Red</td>\n",
              "      <td>5.0</td>\n",
              "      <td>3.0</td>\n",
              "    </tr>\n",
              "    <tr>\n",
              "      <th>11</th>\n",
              "      <td>Pago de Carraovejas</td>\n",
              "      <td>El Anejon</td>\n",
              "      <td>2016</td>\n",
              "      <td>2</td>\n",
              "      <td>454</td>\n",
              "      <td>Ribera del Duero</td>\n",
              "      <td>105.15</td>\n",
              "      <td>Ribera Del Duero Red</td>\n",
              "      <td>5.0</td>\n",
              "      <td>3.0</td>\n",
              "    </tr>\n",
              "  </tbody>\n",
              "</table>\n",
              "</div>\n",
              "      <button class=\"colab-df-convert\" onclick=\"convertToInteractive('df-03e09298-52e9-4121-b0d3-2d7d38e6347a')\"\n",
              "              title=\"Convert this dataframe to an interactive table.\"\n",
              "              style=\"display:none;\">\n",
              "        \n",
              "  <svg xmlns=\"http://www.w3.org/2000/svg\" height=\"24px\"viewBox=\"0 0 24 24\"\n",
              "       width=\"24px\">\n",
              "    <path d=\"M0 0h24v24H0V0z\" fill=\"none\"/>\n",
              "    <path d=\"M18.56 5.44l.94 2.06.94-2.06 2.06-.94-2.06-.94-.94-2.06-.94 2.06-2.06.94zm-11 1L8.5 8.5l.94-2.06 2.06-.94-2.06-.94L8.5 2.5l-.94 2.06-2.06.94zm10 10l.94 2.06.94-2.06 2.06-.94-2.06-.94-.94-2.06-.94 2.06-2.06.94z\"/><path d=\"M17.41 7.96l-1.37-1.37c-.4-.4-.92-.59-1.43-.59-.52 0-1.04.2-1.43.59L10.3 9.45l-7.72 7.72c-.78.78-.78 2.05 0 2.83L4 21.41c.39.39.9.59 1.41.59.51 0 1.02-.2 1.41-.59l7.78-7.78 2.81-2.81c.8-.78.8-2.07 0-2.86zM5.41 20L4 18.59l7.72-7.72 1.47 1.35L5.41 20z\"/>\n",
              "  </svg>\n",
              "      </button>\n",
              "      \n",
              "  <style>\n",
              "    .colab-df-container {\n",
              "      display:flex;\n",
              "      flex-wrap:wrap;\n",
              "      gap: 12px;\n",
              "    }\n",
              "\n",
              "    .colab-df-convert {\n",
              "      background-color: #E8F0FE;\n",
              "      border: none;\n",
              "      border-radius: 50%;\n",
              "      cursor: pointer;\n",
              "      display: none;\n",
              "      fill: #1967D2;\n",
              "      height: 32px;\n",
              "      padding: 0 0 0 0;\n",
              "      width: 32px;\n",
              "    }\n",
              "\n",
              "    .colab-df-convert:hover {\n",
              "      background-color: #E2EBFA;\n",
              "      box-shadow: 0px 1px 2px rgba(60, 64, 67, 0.3), 0px 1px 3px 1px rgba(60, 64, 67, 0.15);\n",
              "      fill: #174EA6;\n",
              "    }\n",
              "\n",
              "    [theme=dark] .colab-df-convert {\n",
              "      background-color: #3B4455;\n",
              "      fill: #D2E3FC;\n",
              "    }\n",
              "\n",
              "    [theme=dark] .colab-df-convert:hover {\n",
              "      background-color: #434B5C;\n",
              "      box-shadow: 0px 1px 3px 1px rgba(0, 0, 0, 0.15);\n",
              "      filter: drop-shadow(0px 1px 2px rgba(0, 0, 0, 0.3));\n",
              "      fill: #FFFFFF;\n",
              "    }\n",
              "  </style>\n",
              "\n",
              "      <script>\n",
              "        const buttonEl =\n",
              "          document.querySelector('#df-03e09298-52e9-4121-b0d3-2d7d38e6347a button.colab-df-convert');\n",
              "        buttonEl.style.display =\n",
              "          google.colab.kernel.accessAllowed ? 'block' : 'none';\n",
              "\n",
              "        async function convertToInteractive(key) {\n",
              "          const element = document.querySelector('#df-03e09298-52e9-4121-b0d3-2d7d38e6347a');\n",
              "          const dataTable =\n",
              "            await google.colab.kernel.invokeFunction('convertToInteractive',\n",
              "                                                     [key], {});\n",
              "          if (!dataTable) return;\n",
              "\n",
              "          const docLinkHtml = 'Like what you see? Visit the ' +\n",
              "            '<a target=\"_blank\" href=https://colab.research.google.com/notebooks/data_table.ipynb>data table notebook</a>'\n",
              "            + ' to learn more about interactive tables.';\n",
              "          element.innerHTML = '';\n",
              "          dataTable['output_type'] = 'display_data';\n",
              "          await google.colab.output.renderOutput(dataTable, element);\n",
              "          const docLink = document.createElement('div');\n",
              "          docLink.innerHTML = docLinkHtml;\n",
              "          element.appendChild(docLink);\n",
              "        }\n",
              "      </script>\n",
              "    </div>\n",
              "  </div>\n",
              "  "
            ]
          },
          "metadata": {},
          "execution_count": 19
        }
      ],
      "source": [
        "def bin_rating(X):\n",
        "\n",
        "  if X in Three_stars:\n",
        "    return 0\n",
        "\n",
        "  elif X in Four_stars: \n",
        "\n",
        "    return 1\n",
        "\n",
        "  else:\n",
        "    return  2\n",
        "df['rating'] = df['rating'].apply(bin_rating)\n",
        "df.head()\n"
      ]
    },
    {
      "cell_type": "markdown",
      "metadata": {
        "id": "ByDezYjIL15E"
      },
      "source": [
        "Checking for missing values"
      ]
    },
    {
      "cell_type": "code",
      "execution_count": 20,
      "metadata": {
        "colab": {
          "base_uri": "https://localhost:8080/"
        },
        "id": "YmCwlLkIL0Eh",
        "outputId": "0738381a-aa0d-4091-e193-9dd5d5c23342"
      },
      "outputs": [
        {
          "output_type": "execute_result",
          "data": {
            "text/plain": [
              "winery            0\n",
              "wine              0\n",
              "year              0\n",
              "rating            0\n",
              "num_reviews       0\n",
              "region            0\n",
              "price             0\n",
              "type            510\n",
              "body           1004\n",
              "acidity        1004\n",
              "dtype: int64"
            ]
          },
          "metadata": {},
          "execution_count": 20
        }
      ],
      "source": [
        "df.isna().sum()"
      ]
    },
    {
      "cell_type": "code",
      "execution_count": 21,
      "metadata": {
        "colab": {
          "base_uri": "https://localhost:8080/"
        },
        "id": "3iN5ChBWW3uH",
        "outputId": "bc3845a1-8863-45db-d4f0-f464eb5ea2e0"
      },
      "outputs": [
        {
          "output_type": "execute_result",
          "data": {
            "text/plain": [
              "Rioja Red               1790\n",
              "Ribera Del Duero Red    1224\n",
              "Red                      808\n",
              "Priorat Red              580\n",
              "Tempranillo              265\n",
              "Albarino                 236\n",
              "Mencia                   232\n",
              "Rioja White               83\n",
              "Toro Red                  51\n",
              "Grenache                  32\n",
              "Verdejo                   22\n",
              "Montsant Red              15\n",
              "Monastrell                14\n",
              "Syrah                     12\n",
              "Chardonnay                11\n",
              "Cava                      11\n",
              "Cabernet Sauvignon         6\n",
              "Pedro Ximenez              2\n",
              "Sparkling                  1\n",
              "Sauvignon Blanc            1\n",
              "Name: type, dtype: int64"
            ]
          },
          "metadata": {},
          "execution_count": 21
        }
      ],
      "source": [
        "# change the column to only red and white wines so that we can reduce the possiblities or the categories\n",
        "# This is an importatn feature engineerign step!!! \n",
        "df.type.value_counts()"
      ]
    },
    {
      "cell_type": "markdown",
      "metadata": {
        "id": "9hPYkItHRri3"
      },
      "source": [
        "I see there are missing values in type, acidity and body. \n",
        "Those will be taking care of with Simple imputer. Type will be fill with most frequent values, body and acidity will be fill with mean. "
      ]
    },
    {
      "cell_type": "code",
      "execution_count": 22,
      "metadata": {
        "id": "nXxprV-QRAGa",
        "colab": {
          "base_uri": "https://localhost:8080/"
        },
        "outputId": "964de3b0-37ef-4990-c646-6b73d29a4e46"
      },
      "outputs": [
        {
          "output_type": "execute_result",
          "data": {
            "text/plain": [
              "array([ 28, 358, 358, ..., 269, 255, 327])"
            ]
          },
          "metadata": {},
          "execution_count": 22
        }
      ],
      "source": [
        "# Importing LabelEncoder from Sklearn\n",
        "# library from preprocessing Module.\n",
        "from sklearn.preprocessing import LabelEncoder\n",
        " \n",
        "# Creating a instance of label Encoder.\n",
        "le = LabelEncoder()\n",
        " \n",
        "# Using .fit_transform function to fit label\n",
        "# encoder and return encoded label\n",
        "label = le.fit_transform(df['winery'])\n",
        " \n",
        "# printing label\n",
        "label"
      ]
    },
    {
      "cell_type": "code",
      "execution_count": 23,
      "metadata": {
        "colab": {
          "base_uri": "https://localhost:8080/",
          "height": 699
        },
        "id": "13J5D8Dldb7H",
        "outputId": "e19107ec-730c-4091-da94-3764ffc95bc2"
      },
      "outputs": [
        {
          "output_type": "display_data",
          "data": {
            "text/plain": [
              "<Figure size 1200x800 with 2 Axes>"
            ],
            "image/png": "[encoded data removed]"
          },
          "metadata": {}
        }
      ],
      "source": [
        "plt.figure(figsize=(12, 8))\n",
        "sns.heatmap(df.corr(),annot=True)\n",
        "plt.title('Correlation of various variables')\n",
        "plt.show()"
      ]
    },
    {
      "cell_type": "markdown",
      "metadata": {
        "id": "Iv0nGy2ldhn3"
      },
      "source": [
        "Correlation shows degree of linear relationship between variables.It varies 1 from price and ratings have the highest ratings of 42% meaning that they are fairly positive correlated thus when ratings increase, price increase with approximately 50% of the initial increase in ratings. num-reviews and acidity have the lowest positive correlation of 4.4% meaning that number of reviews are lowly affected by the acidity of the wine thus low correlation."
      ]
    },
    {
      "cell_type": "code",
      "execution_count": 24,
      "metadata": {
        "colab": {
          "base_uri": "https://localhost:8080/",
          "height": 449
        },
        "id": "fO80gX6Gu2KZ",
        "outputId": "91c61b77-90b9-4a34-8dd7-a8689a4a4783"
      },
      "outputs": [
        {
          "output_type": "display_data",
          "data": {
            "text/plain": [
              "<Figure size 640x480 with 1 Axes>"
            ],
            "image/png": "[encoded data removed]"
          },
          "metadata": {}
        }
      ],
      "source": [
        "sns.barplot(data=df, x='acidity', y= 'body', hue='year')\n",
        "plt.xticks()\n",
        "plt.show()"
      ]
    },
    {
      "cell_type": "code",
      "execution_count": 25,
      "metadata": {
        "colab": {
          "base_uri": "https://localhost:8080/",
          "height": 467
        },
        "id": "0rbw3gXxuLgL",
        "outputId": "1b9eafbe-b707-4ae7-d7cf-d47e981ab594"
      },
      "outputs": [
        {
          "output_type": "execute_result",
          "data": {
            "text/plain": [
              "<Axes: xlabel='rating', ylabel='price'>"
            ]
          },
          "metadata": {},
          "execution_count": 25
        },
        {
          "output_type": "display_data",
          "data": {
            "text/plain": [
              "<Figure size 640x480 with 1 Axes>"
            ],
            "image/png": "[encoded data removed]"
          },
          "metadata": {}
        }
      ],
      "source": [
        "sns.scatterplot(data=df, x=\"rating\", y=\"price\", hue=\"year\")"
      ]
    },
    {
      "cell_type": "markdown",
      "metadata": {
        "id": "N_eDxT3s4eQF"
      },
      "source": [
        "Convert the String Names of the Classes to Numeric Values."
      ]
    },
    {
      "cell_type": "code",
      "execution_count": 26,
      "metadata": {
        "id": "mt3zcnOe4a1z"
      },
      "outputs": [],
      "source": [
        "df['rating'] = df['rating'].replace({'Three stars': 0, 'Four stars': 1, 'Five stars': 2})"
      ]
    },
    {
      "cell_type": "markdown",
      "metadata": {
        "id": "NvpkfMsg5MIm"
      },
      "source": [
        "Arrange Data into a Features Matrix and Target Vector"
      ]
    },
    {
      "cell_type": "code",
      "execution_count": 27,
      "metadata": {
        "id": "Jv1sbTJSkHik"
      },
      "outputs": [],
      "source": [
        "# Define features (X) and target (y)\n",
        "y = df['rating']\n",
        "X = df.drop(columns = 'rating')\n"
      ]
    },
    {
      "cell_type": "markdown",
      "metadata": {
        "id": "1mN0xsfU5P_C"
      },
      "source": [
        "Train Test Split (model validation)"
      ]
    },
    {
      "cell_type": "code",
      "execution_count": 28,
      "metadata": {
        "id": "hJ9hY1dZkgpz"
      },
      "outputs": [],
      "source": [
        "# Split the dataset\n",
        "X_train, X_test, y_train, y_test = train_test_split(X, y, random_state=42)"
      ]
    },
    {
      "cell_type": "code",
      "execution_count": 29,
      "metadata": {
        "colab": {
          "base_uri": "https://localhost:8080/"
        },
        "id": "w181S41RkhXo",
        "outputId": "41e4cd72-7e29-41da-9990-cde9f385dc09"
      },
      "outputs": [
        {
          "output_type": "execute_result",
          "data": {
            "text/plain": [
              "0    0.895688\n",
              "1    0.095281\n",
              "2    0.009031\n",
              "Name: rating, dtype: float64"
            ]
          },
          "metadata": {},
          "execution_count": 29
        }
      ],
      "source": [
        "# Check how many samples of each class are present for train\n",
        "y_train.value_counts(normalize=True)"
      ]
    },
    {
      "cell_type": "code",
      "execution_count": 30,
      "metadata": {
        "colab": {
          "base_uri": "https://localhost:8080/"
        },
        "id": "5iI-CVx9kj6W",
        "outputId": "f8403b87-e0d4-445e-f795-b325f410e719"
      },
      "outputs": [
        {
          "output_type": "execute_result",
          "data": {
            "text/plain": [
              "0    0.877454\n",
              "1    0.113067\n",
              "2    0.009479\n",
              "Name: rating, dtype: float64"
            ]
          },
          "metadata": {},
          "execution_count": 30
        }
      ],
      "source": [
        "## Check how many samples of each class are present for test\n",
        "y_test.value_counts(normalize=True)"
      ]
    },
    {
      "cell_type": "markdown",
      "metadata": {
        "id": "ahzBPJdNknIJ"
      },
      "source": [
        "#Preprocessing for Machine Learing\n",
        "Transformers"
      ]
    },
    {
      "cell_type": "code",
      "execution_count": 31,
      "metadata": {
        "colab": {
          "base_uri": "https://localhost:8080/",
          "height": 152
        },
        "id": "2Hw4VLeZay0V",
        "outputId": "6abc11be-66a1-406b-b75f-a732732c7ffe"
      },
      "outputs": [
        {
          "output_type": "execute_result",
          "data": {
            "text/plain": [
              "ColumnTransformer(transformers=[('pipeline-1',\n",
              "                                 Pipeline(steps=[('simpleimputer',\n",
              "                                                  SimpleImputer(strategy='most_frequent')),\n",
              "                                                 ('onehotencoder',\n",
              "                                                  OneHotEncoder(handle_unknown='ignore',\n",
              "                                                                sparse=False))]),\n",
              "                                 <sklearn.compose._column_transformer.make_column_selector object at 0x7efd6c4c3820>),\n",
              "                                ('pipeline-2',\n",
              "                                 Pipeline(steps=[('simpleimputer',\n",
              "                                                  SimpleImputer()),\n",
              "                                                 ('standardscaler',\n",
              "                                                  StandardScaler())]),\n",
              "                                 <sklearn.compose._column_transformer.make_column_selector object at 0x7efd6c4c3eb0>)])"
            ],
            "text/html": [
              "<style>#sk-container-id-1 {color: black;background-color: white;}#sk-container-id-1 pre{padding: 0;}#sk-container-id-1 div.sk-toggleable {background-color: white;}#sk-container-id-1 label.sk-toggleable__label {cursor: pointer;display: block;width: 100%;margin-bottom: 0;padding: 0.3em;box-sizing: border-box;text-align: center;}#sk-container-id-1 label.sk-toggleable__label-arrow:before {content: \"▸\";float: left;margin-right: 0.25em;color: #696969;}#sk-container-id-1 label.sk-toggleable__label-arrow:hover:before {color: black;}#sk-container-id-1 div.sk-estimator:hover label.sk-toggleable__label-arrow:before {color: black;}#sk-container-id-1 div.sk-toggleable__content {max-height: 0;max-width: 0;overflow: hidden;text-align: left;background-color: #f0f8ff;}#sk-container-id-1 div.sk-toggleable__content pre {margin: 0.2em;color: black;border-radius: 0.25em;background-color: #f0f8ff;}#sk-container-id-1 input.sk-toggleable__control:checked~div.sk-toggleable__content {max-height: 200px;max-width: 100%;overflow: auto;}#sk-container-id-1 input.sk-toggleable__control:checked~label.sk-toggleable__label-arrow:before {content: \"▾\";}#sk-container-id-1 div.sk-estimator input.sk-toggleable__control:checked~label.sk-toggleable__label {background-color: #d4ebff;}#sk-container-id-1 div.sk-label input.sk-toggleable__control:checked~label.sk-toggleable__label {background-color: #d4ebff;}#sk-container-id-1 input.sk-hidden--visually {border: 0;clip: rect(1px 1px 1px 1px);clip: rect(1px, 1px, 1px, 1px);height: 1px;margin: -1px;overflow: hidden;padding: 0;position: absolute;width: 1px;}#sk-container-id-1 div.sk-estimator {font-family: monospace;background-color: #f0f8ff;border: 1px dotted black;border-radius: 0.25em;box-sizing: border-box;margin-bottom: 0.5em;}#sk-container-id-1 div.sk-estimator:hover {background-color: #d4ebff;}#sk-container-id-1 div.sk-parallel-item::after {content: \"\";width: 100%;border-bottom: 1px solid gray;flex-grow: 1;}#sk-container-id-1 div.sk-label:hover label.sk-toggleable__label {background-color: #d4ebff;}#sk-container-id-1 div.sk-serial::before {content: \"\";position: absolute;border-left: 1px solid gray;box-sizing: border-box;top: 0;bottom: 0;left: 50%;z-index: 0;}#sk-container-id-1 div.sk-serial {display: flex;flex-direction: column;align-items: center;background-color: white;padding-right: 0.2em;padding-left: 0.2em;position: relative;}#sk-container-id-1 div.sk-item {position: relative;z-index: 1;}#sk-container-id-1 div.sk-parallel {display: flex;align-items: stretch;justify-content: center;background-color: white;position: relative;}#sk-container-id-1 div.sk-item::before, #sk-container-id-1 div.sk-parallel-item::before {content: \"\";position: absolute;border-left: 1px solid gray;box-sizing: border-box;top: 0;bottom: 0;left: 50%;z-index: -1;}#sk-container-id-1 div.sk-parallel-item {display: flex;flex-direction: column;z-index: 1;position: relative;background-color: white;}#sk-container-id-1 div.sk-parallel-item:first-child::after {align-self: flex-end;width: 50%;}#sk-container-id-1 div.sk-parallel-item:last-child::after {align-self: flex-start;width: 50%;}#sk-container-id-1 div.sk-parallel-item:only-child::after {width: 0;}#sk-container-id-1 div.sk-dashed-wrapped {border: 1px dashed gray;margin: 0 0.4em 0.5em 0.4em;box-sizing: border-box;padding-bottom: 0.4em;background-color: white;}#sk-container-id-1 div.sk-label label {font-family: monospace;font-weight: bold;display: inline-block;line-height: 1.2em;}#sk-container-id-1 div.sk-label-container {text-align: center;}#sk-container-id-1 div.sk-container {/* jupyter's `normalize.less` sets `[hidden] { display: none; }` but bootstrap.min.css set `[hidden] { display: none !important; }` so we also need the `!important` here to be able to override the default hidden behavior on the sphinx rendered scikit-learn.org. See: https://github.com/scikit-learn/scikit-learn/issues/21755 */display: inline-block !important;position: relative;}#sk-container-id-1 div.sk-text-repr-fallback {display: none;}</style><div id=\"sk-container-id-1\" class=\"sk-top-container\"><div class=\"sk-text-repr-fallback\"><pre>ColumnTransformer(transformers=[(&#x27;pipeline-1&#x27;,\n",
              "                                 Pipeline(steps=[(&#x27;simpleimputer&#x27;,\n",
              "                                                  SimpleImputer(strategy=&#x27;most_frequent&#x27;)),\n",
              "                                                 (&#x27;onehotencoder&#x27;,\n",
              "                                                  OneHotEncoder(handle_unknown=&#x27;ignore&#x27;,\n",
              "                                                                sparse=False))]),\n",
              "                                 &lt;sklearn.compose._column_transformer.make_column_selector object at 0x7efd6c4c3820&gt;),\n",
              "                                (&#x27;pipeline-2&#x27;,\n",
              "                                 Pipeline(steps=[(&#x27;simpleimputer&#x27;,\n",
              "                                                  SimpleImputer()),\n",
              "                                                 (&#x27;standardscaler&#x27;,\n",
              "                                                  StandardScaler())]),\n",
              "                                 &lt;sklearn.compose._column_transformer.make_column_selector object at 0x7efd6c4c3eb0&gt;)])</pre><b>In a Jupyter environment, please rerun this cell to show the HTML representation or trust the notebook. <br />On GitHub, the HTML representation is unable to render, please try loading this page with nbviewer.org.</b></div><div class=\"sk-container\" hidden><div class=\"sk-item sk-dashed-wrapped\"><div class=\"sk-label-container\"><div class=\"sk-label sk-toggleable\"><input class=\"sk-toggleable__control sk-hidden--visually\" id=\"sk-estimator-id-1\" type=\"checkbox\" ><label for=\"sk-estimator-id-1\" class=\"sk-toggleable__label sk-toggleable__label-arrow\">ColumnTransformer</label><div class=\"sk-toggleable__content\"><pre>ColumnTransformer(transformers=[(&#x27;pipeline-1&#x27;,\n",
              "                                 Pipeline(steps=[(&#x27;simpleimputer&#x27;,\n",
              "                                                  SimpleImputer(strategy=&#x27;most_frequent&#x27;)),\n",
              "                                                 (&#x27;onehotencoder&#x27;,\n",
              "                                                  OneHotEncoder(handle_unknown=&#x27;ignore&#x27;,\n",
              "                                                                sparse=False))]),\n",
              "                                 &lt;sklearn.compose._column_transformer.make_column_selector object at 0x7efd6c4c3820&gt;),\n",
              "                                (&#x27;pipeline-2&#x27;,\n",
              "                                 Pipeline(steps=[(&#x27;simpleimputer&#x27;,\n",
              "                                                  SimpleImputer()),\n",
              "                                                 (&#x27;standardscaler&#x27;,\n",
              "                                                  StandardScaler())]),\n",
              "                                 &lt;sklearn.compose._column_transformer.make_column_selector object at 0x7efd6c4c3eb0&gt;)])</pre></div></div></div><div class=\"sk-parallel\"><div class=\"sk-parallel-item\"><div class=\"sk-item\"><div class=\"sk-label-container\"><div class=\"sk-label sk-toggleable\"><input class=\"sk-toggleable__control sk-hidden--visually\" id=\"sk-estimator-id-2\" type=\"checkbox\" ><label for=\"sk-estimator-id-2\" class=\"sk-toggleable__label sk-toggleable__label-arrow\">pipeline-1</label><div class=\"sk-toggleable__content\"><pre>&lt;sklearn.compose._column_transformer.make_column_selector object at 0x7efd6c4c3820&gt;</pre></div></div></div><div class=\"sk-serial\"><div class=\"sk-item\"><div class=\"sk-serial\"><div class=\"sk-item\"><div class=\"sk-estimator sk-toggleable\"><input class=\"sk-toggleable__control sk-hidden--visually\" id=\"sk-estimator-id-3\" type=\"checkbox\" ><label for=\"sk-estimator-id-3\" class=\"sk-toggleable__label sk-toggleable__label-arrow\">SimpleImputer</label><div class=\"sk-toggleable__content\"><pre>SimpleImputer(strategy=&#x27;most_frequent&#x27;)</pre></div></div></div><div class=\"sk-item\"><div class=\"sk-estimator sk-toggleable\"><input class=\"sk-toggleable__control sk-hidden--visually\" id=\"sk-estimator-id-4\" type=\"checkbox\" ><label for=\"sk-estimator-id-4\" class=\"sk-toggleable__label sk-toggleable__label-arrow\">OneHotEncoder</label><div class=\"sk-toggleable__content\"><pre>OneHotEncoder(handle_unknown=&#x27;ignore&#x27;, sparse=False)</pre></div></div></div></div></div></div></div></div><div class=\"sk-parallel-item\"><div class=\"sk-item\"><div class=\"sk-label-container\"><div class=\"sk-label sk-toggleable\"><input class=\"sk-toggleable__control sk-hidden--visually\" id=\"sk-estimator-id-5\" type=\"checkbox\" ><label for=\"sk-estimator-id-5\" class=\"sk-toggleable__label sk-toggleable__label-arrow\">pipeline-2</label><div class=\"sk-toggleable__content\"><pre>&lt;sklearn.compose._column_transformer.make_column_selector object at 0x7efd6c4c3eb0&gt;</pre></div></div></div><div class=\"sk-serial\"><div class=\"sk-item\"><div class=\"sk-serial\"><div class=\"sk-item\"><div class=\"sk-estimator sk-toggleable\"><input class=\"sk-toggleable__control sk-hidden--visually\" id=\"sk-estimator-id-6\" type=\"checkbox\" ><label for=\"sk-estimator-id-6\" class=\"sk-toggleable__label sk-toggleable__label-arrow\">SimpleImputer</label><div class=\"sk-toggleable__content\"><pre>SimpleImputer()</pre></div></div></div><div class=\"sk-item\"><div class=\"sk-estimator sk-toggleable\"><input class=\"sk-toggleable__control sk-hidden--visually\" id=\"sk-estimator-id-7\" type=\"checkbox\" ><label for=\"sk-estimator-id-7\" class=\"sk-toggleable__label sk-toggleable__label-arrow\">StandardScaler</label><div class=\"sk-toggleable__content\"><pre>StandardScaler()</pre></div></div></div></div></div></div></div></div></div></div></div></div>"
            ]
          },
          "metadata": {},
          "execution_count": 31
        }
      ],
      "source": [
        "# Instantiate the transformers\n",
        "scaler = StandardScaler()\n",
        "mean_imputer = SimpleImputer(strategy='mean')\n",
        "freq_imputer = SimpleImputer(strategy='most_frequent')\n",
        "ohe = OneHotEncoder(sparse=False, handle_unknown='ignore')\n",
        "# Prepare separate processing pipelines for numeric and categorical data\n",
        "num_pipe = make_pipeline(mean_imputer, scaler)\n",
        "cat_pipe = make_pipeline(freq_imputer, ohe)\n",
        "# Create ColumnSelectors for the the numeric and categorical data\n",
        "cat_selector = make_column_selector(dtype_include='object')\n",
        "num_selector = make_column_selector(dtype_include='number')\n",
        "# Combine the Pipelines and ColumnSelectors into tuples for the ColumnTransformer\n",
        "cat_tuple = (cat_pipe, cat_selector)\n",
        "num_tuple = (num_pipe, num_selector)\n",
        "# Create the preprocessing ColumnTransformer\n",
        "preprocessor = make_column_transformer(cat_tuple, num_tuple, remainder='drop')\n",
        "preprocessor\n",
        "\n"
      ]
    },
    {
      "cell_type": "markdown",
      "metadata": {
        "id": "9PHwQJFukyrP"
      },
      "source": [
        "##Models\n"
      ]
    },
    {
      "cell_type": "code",
      "execution_count": 32,
      "metadata": {
        "id": "lLlRGMvvgFkU",
        "colab": {
          "base_uri": "https://localhost:8080/",
          "height": 226
        },
        "outputId": "82e75d96-6824-436b-e9d0-353c5c56ac18"
      },
      "outputs": [
        {
          "output_type": "execute_result",
          "data": {
            "text/plain": [
              "Pipeline(steps=[('columntransformer',\n",
              "                 ColumnTransformer(transformers=[('pipeline-1',\n",
              "                                                  Pipeline(steps=[('simpleimputer',\n",
              "                                                                   SimpleImputer(strategy='most_frequent')),\n",
              "                                                                  ('onehotencoder',\n",
              "                                                                   OneHotEncoder(handle_unknown='ignore',\n",
              "                                                                                 sparse=False))]),\n",
              "                                                  <sklearn.compose._column_transformer.make_column_selector object at 0x7efd6c4c3820>),\n",
              "                                                 ('pipeline-2',\n",
              "                                                  Pipeline(steps=[('simpleimputer',\n",
              "                                                                   SimpleImputer()),\n",
              "                                                                  ('standardscaler',\n",
              "                                                                   StandardScaler())]),\n",
              "                                                  <sklearn.compose._column_transformer.make_column_selector object at 0x7efd6c4c3eb0>)])),\n",
              "                ('decisiontreeclassifier', DecisionTreeClassifier())])"
            ],
            "text/html": [
              "<style>#sk-container-id-2 {color: black;background-color: white;}#sk-container-id-2 pre{padding: 0;}#sk-container-id-2 div.sk-toggleable {background-color: white;}#sk-container-id-2 label.sk-toggleable__label {cursor: pointer;display: block;width: 100%;margin-bottom: 0;padding: 0.3em;box-sizing: border-box;text-align: center;}#sk-container-id-2 label.sk-toggleable__label-arrow:before {content: \"▸\";float: left;margin-right: 0.25em;color: #696969;}#sk-container-id-2 label.sk-toggleable__label-arrow:hover:before {color: black;}#sk-container-id-2 div.sk-estimator:hover label.sk-toggleable__label-arrow:before {color: black;}#sk-container-id-2 div.sk-toggleable__content {max-height: 0;max-width: 0;overflow: hidden;text-align: left;background-color: #f0f8ff;}#sk-container-id-2 div.sk-toggleable__content pre {margin: 0.2em;color: black;border-radius: 0.25em;background-color: #f0f8ff;}#sk-container-id-2 input.sk-toggleable__control:checked~div.sk-toggleable__content {max-height: 200px;max-width: 100%;overflow: auto;}#sk-container-id-2 input.sk-toggleable__control:checked~label.sk-toggleable__label-arrow:before {content: \"▾\";}#sk-container-id-2 div.sk-estimator input.sk-toggleable__control:checked~label.sk-toggleable__label {background-color: #d4ebff;}#sk-container-id-2 div.sk-label input.sk-toggleable__control:checked~label.sk-toggleable__label {background-color: #d4ebff;}#sk-container-id-2 input.sk-hidden--visually {border: 0;clip: rect(1px 1px 1px 1px);clip: rect(1px, 1px, 1px, 1px);height: 1px;margin: -1px;overflow: hidden;padding: 0;position: absolute;width: 1px;}#sk-container-id-2 div.sk-estimator {font-family: monospace;background-color: #f0f8ff;border: 1px dotted black;border-radius: 0.25em;box-sizing: border-box;margin-bottom: 0.5em;}#sk-container-id-2 div.sk-estimator:hover {background-color: #d4ebff;}#sk-container-id-2 div.sk-parallel-item::after {content: \"\";width: 100%;border-bottom: 1px solid gray;flex-grow: 1;}#sk-container-id-2 div.sk-label:hover label.sk-toggleable__label {background-color: #d4ebff;}#sk-container-id-2 div.sk-serial::before {content: \"\";position: absolute;border-left: 1px solid gray;box-sizing: border-box;top: 0;bottom: 0;left: 50%;z-index: 0;}#sk-container-id-2 div.sk-serial {display: flex;flex-direction: column;align-items: center;background-color: white;padding-right: 0.2em;padding-left: 0.2em;position: relative;}#sk-container-id-2 div.sk-item {position: relative;z-index: 1;}#sk-container-id-2 div.sk-parallel {display: flex;align-items: stretch;justify-content: center;background-color: white;position: relative;}#sk-container-id-2 div.sk-item::before, #sk-container-id-2 div.sk-parallel-item::before {content: \"\";position: absolute;border-left: 1px solid gray;box-sizing: border-box;top: 0;bottom: 0;left: 50%;z-index: -1;}#sk-container-id-2 div.sk-parallel-item {display: flex;flex-direction: column;z-index: 1;position: relative;background-color: white;}#sk-container-id-2 div.sk-parallel-item:first-child::after {align-self: flex-end;width: 50%;}#sk-container-id-2 div.sk-parallel-item:last-child::after {align-self: flex-start;width: 50%;}#sk-container-id-2 div.sk-parallel-item:only-child::after {width: 0;}#sk-container-id-2 div.sk-dashed-wrapped {border: 1px dashed gray;margin: 0 0.4em 0.5em 0.4em;box-sizing: border-box;padding-bottom: 0.4em;background-color: white;}#sk-container-id-2 div.sk-label label {font-family: monospace;font-weight: bold;display: inline-block;line-height: 1.2em;}#sk-container-id-2 div.sk-label-container {text-align: center;}#sk-container-id-2 div.sk-container {/* jupyter's `normalize.less` sets `[hidden] { display: none; }` but bootstrap.min.css set `[hidden] { display: none !important; }` so we also need the `!important` here to be able to override the default hidden behavior on the sphinx rendered scikit-learn.org. See: https://github.com/scikit-learn/scikit-learn/issues/21755 */display: inline-block !important;position: relative;}#sk-container-id-2 div.sk-text-repr-fallback {display: none;}</style><div id=\"sk-container-id-2\" class=\"sk-top-container\"><div class=\"sk-text-repr-fallback\"><pre>Pipeline(steps=[(&#x27;columntransformer&#x27;,\n",
              "                 ColumnTransformer(transformers=[(&#x27;pipeline-1&#x27;,\n",
              "                                                  Pipeline(steps=[(&#x27;simpleimputer&#x27;,\n",
              "                                                                   SimpleImputer(strategy=&#x27;most_frequent&#x27;)),\n",
              "                                                                  (&#x27;onehotencoder&#x27;,\n",
              "                                                                   OneHotEncoder(handle_unknown=&#x27;ignore&#x27;,\n",
              "                                                                                 sparse=False))]),\n",
              "                                                  &lt;sklearn.compose._column_transformer.make_column_selector object at 0x7efd6c4c3820&gt;),\n",
              "                                                 (&#x27;pipeline-2&#x27;,\n",
              "                                                  Pipeline(steps=[(&#x27;simpleimputer&#x27;,\n",
              "                                                                   SimpleImputer()),\n",
              "                                                                  (&#x27;standardscaler&#x27;,\n",
              "                                                                   StandardScaler())]),\n",
              "                                                  &lt;sklearn.compose._column_transformer.make_column_selector object at 0x7efd6c4c3eb0&gt;)])),\n",
              "                (&#x27;decisiontreeclassifier&#x27;, DecisionTreeClassifier())])</pre><b>In a Jupyter environment, please rerun this cell to show the HTML representation or trust the notebook. <br />On GitHub, the HTML representation is unable to render, please try loading this page with nbviewer.org.</b></div><div class=\"sk-container\" hidden><div class=\"sk-item sk-dashed-wrapped\"><div class=\"sk-label-container\"><div class=\"sk-label sk-toggleable\"><input class=\"sk-toggleable__control sk-hidden--visually\" id=\"sk-estimator-id-8\" type=\"checkbox\" ><label for=\"sk-estimator-id-8\" class=\"sk-toggleable__label sk-toggleable__label-arrow\">Pipeline</label><div class=\"sk-toggleable__content\"><pre>Pipeline(steps=[(&#x27;columntransformer&#x27;,\n",
              "                 ColumnTransformer(transformers=[(&#x27;pipeline-1&#x27;,\n",
              "                                                  Pipeline(steps=[(&#x27;simpleimputer&#x27;,\n",
              "                                                                   SimpleImputer(strategy=&#x27;most_frequent&#x27;)),\n",
              "                                                                  (&#x27;onehotencoder&#x27;,\n",
              "                                                                   OneHotEncoder(handle_unknown=&#x27;ignore&#x27;,\n",
              "                                                                                 sparse=False))]),\n",
              "                                                  &lt;sklearn.compose._column_transformer.make_column_selector object at 0x7efd6c4c3820&gt;),\n",
              "                                                 (&#x27;pipeline-2&#x27;,\n",
              "                                                  Pipeline(steps=[(&#x27;simpleimputer&#x27;,\n",
              "                                                                   SimpleImputer()),\n",
              "                                                                  (&#x27;standardscaler&#x27;,\n",
              "                                                                   StandardScaler())]),\n",
              "                                                  &lt;sklearn.compose._column_transformer.make_column_selector object at 0x7efd6c4c3eb0&gt;)])),\n",
              "                (&#x27;decisiontreeclassifier&#x27;, DecisionTreeClassifier())])</pre></div></div></div><div class=\"sk-serial\"><div class=\"sk-item sk-dashed-wrapped\"><div class=\"sk-label-container\"><div class=\"sk-label sk-toggleable\"><input class=\"sk-toggleable__control sk-hidden--visually\" id=\"sk-estimator-id-9\" type=\"checkbox\" ><label for=\"sk-estimator-id-9\" class=\"sk-toggleable__label sk-toggleable__label-arrow\">columntransformer: ColumnTransformer</label><div class=\"sk-toggleable__content\"><pre>ColumnTransformer(transformers=[(&#x27;pipeline-1&#x27;,\n",
              "                                 Pipeline(steps=[(&#x27;simpleimputer&#x27;,\n",
              "                                                  SimpleImputer(strategy=&#x27;most_frequent&#x27;)),\n",
              "                                                 (&#x27;onehotencoder&#x27;,\n",
              "                                                  OneHotEncoder(handle_unknown=&#x27;ignore&#x27;,\n",
              "                                                                sparse=False))]),\n",
              "                                 &lt;sklearn.compose._column_transformer.make_column_selector object at 0x7efd6c4c3820&gt;),\n",
              "                                (&#x27;pipeline-2&#x27;,\n",
              "                                 Pipeline(steps=[(&#x27;simpleimputer&#x27;,\n",
              "                                                  SimpleImputer()),\n",
              "                                                 (&#x27;standardscaler&#x27;,\n",
              "                                                  StandardScaler())]),\n",
              "                                 &lt;sklearn.compose._column_transformer.make_column_selector object at 0x7efd6c4c3eb0&gt;)])</pre></div></div></div><div class=\"sk-parallel\"><div class=\"sk-parallel-item\"><div class=\"sk-item\"><div class=\"sk-label-container\"><div class=\"sk-label sk-toggleable\"><input class=\"sk-toggleable__control sk-hidden--visually\" id=\"sk-estimator-id-10\" type=\"checkbox\" ><label for=\"sk-estimator-id-10\" class=\"sk-toggleable__label sk-toggleable__label-arrow\">pipeline-1</label><div class=\"sk-toggleable__content\"><pre>&lt;sklearn.compose._column_transformer.make_column_selector object at 0x7efd6c4c3820&gt;</pre></div></div></div><div class=\"sk-serial\"><div class=\"sk-item\"><div class=\"sk-serial\"><div class=\"sk-item\"><div class=\"sk-estimator sk-toggleable\"><input class=\"sk-toggleable__control sk-hidden--visually\" id=\"sk-estimator-id-11\" type=\"checkbox\" ><label for=\"sk-estimator-id-11\" class=\"sk-toggleable__label sk-toggleable__label-arrow\">SimpleImputer</label><div class=\"sk-toggleable__content\"><pre>SimpleImputer(strategy=&#x27;most_frequent&#x27;)</pre></div></div></div><div class=\"sk-item\"><div class=\"sk-estimator sk-toggleable\"><input class=\"sk-toggleable__control sk-hidden--visually\" id=\"sk-estimator-id-12\" type=\"checkbox\" ><label for=\"sk-estimator-id-12\" class=\"sk-toggleable__label sk-toggleable__label-arrow\">OneHotEncoder</label><div class=\"sk-toggleable__content\"><pre>OneHotEncoder(handle_unknown=&#x27;ignore&#x27;, sparse=False)</pre></div></div></div></div></div></div></div></div><div class=\"sk-parallel-item\"><div class=\"sk-item\"><div class=\"sk-label-container\"><div class=\"sk-label sk-toggleable\"><input class=\"sk-toggleable__control sk-hidden--visually\" id=\"sk-estimator-id-13\" type=\"checkbox\" ><label for=\"sk-estimator-id-13\" class=\"sk-toggleable__label sk-toggleable__label-arrow\">pipeline-2</label><div class=\"sk-toggleable__content\"><pre>&lt;sklearn.compose._column_transformer.make_column_selector object at 0x7efd6c4c3eb0&gt;</pre></div></div></div><div class=\"sk-serial\"><div class=\"sk-item\"><div class=\"sk-serial\"><div class=\"sk-item\"><div class=\"sk-estimator sk-toggleable\"><input class=\"sk-toggleable__control sk-hidden--visually\" id=\"sk-estimator-id-14\" type=\"checkbox\" ><label for=\"sk-estimator-id-14\" class=\"sk-toggleable__label sk-toggleable__label-arrow\">SimpleImputer</label><div class=\"sk-toggleable__content\"><pre>SimpleImputer()</pre></div></div></div><div class=\"sk-item\"><div class=\"sk-estimator sk-toggleable\"><input class=\"sk-toggleable__control sk-hidden--visually\" id=\"sk-estimator-id-15\" type=\"checkbox\" ><label for=\"sk-estimator-id-15\" class=\"sk-toggleable__label sk-toggleable__label-arrow\">StandardScaler</label><div class=\"sk-toggleable__content\"><pre>StandardScaler()</pre></div></div></div></div></div></div></div></div></div></div><div class=\"sk-item\"><div class=\"sk-estimator sk-toggleable\"><input class=\"sk-toggleable__control sk-hidden--visually\" id=\"sk-estimator-id-16\" type=\"checkbox\" ><label for=\"sk-estimator-id-16\" class=\"sk-toggleable__label sk-toggleable__label-arrow\">DecisionTreeClassifier</label><div class=\"sk-toggleable__content\"><pre>DecisionTreeClassifier()</pre></div></div></div></div></div></div></div>"
            ]
          },
          "metadata": {},
          "execution_count": 32
        }
      ],
      "source": [
        "dc = DecisionTreeClassifier()\n",
        "\n",
        "dc_pipe = make_pipeline(preprocessor, dc)\n",
        "\n",
        "dc_pipe.fit(X_train, y_train)"
      ]
    },
    {
      "cell_type": "code",
      "source": [
        "train_preds = dc_pipe.predict(X_train)\n",
        "test_preds = dc_pipe.predict(X_test)\n",
        "\n",
        "print('train')\n",
        "print(classification_report(y_train, train_preds))\n",
        "\n",
        "print('test')\n",
        "print(classification_report(y_test, test_preds))\n"
      ],
      "metadata": {
        "colab": {
          "base_uri": "https://localhost:8080/"
        },
        "id": "IReffZbKJq8B",
        "outputId": "09a72670-cd86-443b-9e74-9e681c9f3585"
      },
      "execution_count": 33,
      "outputs": [
        {
          "output_type": "stream",
          "name": "stdout",
          "text": [
            "train\n",
            "              precision    recall  f1-score   support\n",
            "\n",
            "           0       1.00      1.00      1.00      3967\n",
            "           1       1.00      1.00      1.00       422\n",
            "           2       1.00      1.00      1.00        40\n",
            "\n",
            "    accuracy                           1.00      4429\n",
            "   macro avg       1.00      1.00      1.00      4429\n",
            "weighted avg       1.00      1.00      1.00      4429\n",
            "\n",
            "test\n",
            "              precision    recall  f1-score   support\n",
            "\n",
            "           0       0.96      0.97      0.97      1296\n",
            "           1       0.72      0.68      0.70       167\n",
            "           2       0.47      0.50      0.48        14\n",
            "\n",
            "    accuracy                           0.93      1477\n",
            "   macro avg       0.72      0.72      0.72      1477\n",
            "weighted avg       0.93      0.93      0.93      1477\n",
            "\n"
          ]
        }
      ]
    },
    {
      "cell_type": "code",
      "source": [
        "dc_pipe.get_params()"
      ],
      "metadata": {
        "colab": {
          "base_uri": "https://localhost:8080/"
        },
        "id": "WYG5HzUWWwKi",
        "outputId": "0fe955f0-a37c-44a2-ac30-5e713f287981"
      },
      "execution_count": 34,
      "outputs": [
        {
          "output_type": "execute_result",
          "data": {
            "text/plain": [
              "{'memory': None,\n",
              " 'steps': [('columntransformer',\n",
              "   ColumnTransformer(transformers=[('pipeline-1',\n",
              "                                    Pipeline(steps=[('simpleimputer',\n",
              "                                                     SimpleImputer(strategy='most_frequent')),\n",
              "                                                    ('onehotencoder',\n",
              "                                                     OneHotEncoder(handle_unknown='ignore',\n",
              "                                                                   sparse=False))]),\n",
              "                                    <sklearn.compose._column_transformer.make_column_selector object at 0x7efd6c4c3820>),\n",
              "                                   ('pipeline-2',\n",
              "                                    Pipeline(steps=[('simpleimputer',\n",
              "                                                     SimpleImputer()),\n",
              "                                                    ('standardscaler',\n",
              "                                                     StandardScaler())]),\n",
              "                                    <sklearn.compose._column_transformer.make_column_selector object at 0x7efd6c4c3eb0>)])),\n",
              "  ('decisiontreeclassifier', DecisionTreeClassifier())],\n",
              " 'verbose': False,\n",
              " 'columntransformer': ColumnTransformer(transformers=[('pipeline-1',\n",
              "                                  Pipeline(steps=[('simpleimputer',\n",
              "                                                   SimpleImputer(strategy='most_frequent')),\n",
              "                                                  ('onehotencoder',\n",
              "                                                   OneHotEncoder(handle_unknown='ignore',\n",
              "                                                                 sparse=False))]),\n",
              "                                  <sklearn.compose._column_transformer.make_column_selector object at 0x7efd6c4c3820>),\n",
              "                                 ('pipeline-2',\n",
              "                                  Pipeline(steps=[('simpleimputer',\n",
              "                                                   SimpleImputer()),\n",
              "                                                  ('standardscaler',\n",
              "                                                   StandardScaler())]),\n",
              "                                  <sklearn.compose._column_transformer.make_column_selector object at 0x7efd6c4c3eb0>)]),\n",
              " 'decisiontreeclassifier': DecisionTreeClassifier(),\n",
              " 'columntransformer__n_jobs': None,\n",
              " 'columntransformer__remainder': 'drop',\n",
              " 'columntransformer__sparse_threshold': 0.3,\n",
              " 'columntransformer__transformer_weights': None,\n",
              " 'columntransformer__transformers': [('pipeline-1',\n",
              "   Pipeline(steps=[('simpleimputer', SimpleImputer(strategy='most_frequent')),\n",
              "                   ('onehotencoder',\n",
              "                    OneHotEncoder(handle_unknown='ignore', sparse=False))]),\n",
              "   <sklearn.compose._column_transformer.make_column_selector at 0x7efd6c4c3820>),\n",
              "  ('pipeline-2',\n",
              "   Pipeline(steps=[('simpleimputer', SimpleImputer()),\n",
              "                   ('standardscaler', StandardScaler())]),\n",
              "   <sklearn.compose._column_transformer.make_column_selector at 0x7efd6c4c3eb0>)],\n",
              " 'columntransformer__verbose': False,\n",
              " 'columntransformer__verbose_feature_names_out': True,\n",
              " 'columntransformer__pipeline-1': Pipeline(steps=[('simpleimputer', SimpleImputer(strategy='most_frequent')),\n",
              "                 ('onehotencoder',\n",
              "                  OneHotEncoder(handle_unknown='ignore', sparse=False))]),\n",
              " 'columntransformer__pipeline-2': Pipeline(steps=[('simpleimputer', SimpleImputer()),\n",
              "                 ('standardscaler', StandardScaler())]),\n",
              " 'columntransformer__pipeline-1__memory': None,\n",
              " 'columntransformer__pipeline-1__steps': [('simpleimputer',\n",
              "   SimpleImputer(strategy='most_frequent')),\n",
              "  ('onehotencoder', OneHotEncoder(handle_unknown='ignore', sparse=False))],\n",
              " 'columntransformer__pipeline-1__verbose': False,\n",
              " 'columntransformer__pipeline-1__simpleimputer': SimpleImputer(strategy='most_frequent'),\n",
              " 'columntransformer__pipeline-1__onehotencoder': OneHotEncoder(handle_unknown='ignore', sparse=False),\n",
              " 'columntransformer__pipeline-1__simpleimputer__add_indicator': False,\n",
              " 'columntransformer__pipeline-1__simpleimputer__copy': True,\n",
              " 'columntransformer__pipeline-1__simpleimputer__fill_value': None,\n",
              " 'columntransformer__pipeline-1__simpleimputer__keep_empty_features': False,\n",
              " 'columntransformer__pipeline-1__simpleimputer__missing_values': nan,\n",
              " 'columntransformer__pipeline-1__simpleimputer__strategy': 'most_frequent',\n",
              " 'columntransformer__pipeline-1__simpleimputer__verbose': 'deprecated',\n",
              " 'columntransformer__pipeline-1__onehotencoder__categories': 'auto',\n",
              " 'columntransformer__pipeline-1__onehotencoder__drop': None,\n",
              " 'columntransformer__pipeline-1__onehotencoder__dtype': numpy.float64,\n",
              " 'columntransformer__pipeline-1__onehotencoder__handle_unknown': 'ignore',\n",
              " 'columntransformer__pipeline-1__onehotencoder__max_categories': None,\n",
              " 'columntransformer__pipeline-1__onehotencoder__min_frequency': None,\n",
              " 'columntransformer__pipeline-1__onehotencoder__sparse': False,\n",
              " 'columntransformer__pipeline-1__onehotencoder__sparse_output': True,\n",
              " 'columntransformer__pipeline-2__memory': None,\n",
              " 'columntransformer__pipeline-2__steps': [('simpleimputer', SimpleImputer()),\n",
              "  ('standardscaler', StandardScaler())],\n",
              " 'columntransformer__pipeline-2__verbose': False,\n",
              " 'columntransformer__pipeline-2__simpleimputer': SimpleImputer(),\n",
              " 'columntransformer__pipeline-2__standardscaler': StandardScaler(),\n",
              " 'columntransformer__pipeline-2__simpleimputer__add_indicator': False,\n",
              " 'columntransformer__pipeline-2__simpleimputer__copy': True,\n",
              " 'columntransformer__pipeline-2__simpleimputer__fill_value': None,\n",
              " 'columntransformer__pipeline-2__simpleimputer__keep_empty_features': False,\n",
              " 'columntransformer__pipeline-2__simpleimputer__missing_values': nan,\n",
              " 'columntransformer__pipeline-2__simpleimputer__strategy': 'mean',\n",
              " 'columntransformer__pipeline-2__simpleimputer__verbose': 'deprecated',\n",
              " 'columntransformer__pipeline-2__standardscaler__copy': True,\n",
              " 'columntransformer__pipeline-2__standardscaler__with_mean': True,\n",
              " 'columntransformer__pipeline-2__standardscaler__with_std': True,\n",
              " 'decisiontreeclassifier__ccp_alpha': 0.0,\n",
              " 'decisiontreeclassifier__class_weight': None,\n",
              " 'decisiontreeclassifier__criterion': 'gini',\n",
              " 'decisiontreeclassifier__max_depth': None,\n",
              " 'decisiontreeclassifier__max_features': None,\n",
              " 'decisiontreeclassifier__max_leaf_nodes': None,\n",
              " 'decisiontreeclassifier__min_impurity_decrease': 0.0,\n",
              " 'decisiontreeclassifier__min_samples_leaf': 1,\n",
              " 'decisiontreeclassifier__min_samples_split': 2,\n",
              " 'decisiontreeclassifier__min_weight_fraction_leaf': 0.0,\n",
              " 'decisiontreeclassifier__random_state': None,\n",
              " 'decisiontreeclassifier__splitter': 'best'}"
            ]
          },
          "metadata": {},
          "execution_count": 34
        }
      ]
    },
    {
      "cell_type": "code",
      "execution_count": 35,
      "metadata": {
        "id": "dk5h9Oa23svI"
      },
      "outputs": [],
      "source": [
        "params = {'decisiontreeclassifier__max_depth':range(1,dc.get_depth())}\n",
        "\n",
        "dc_gs = GridSearchCV(dc_pipe, params).fit(X_train, y_train)"
      ]
    },
    {
      "cell_type": "code",
      "execution_count": 36,
      "metadata": {
        "id": "IoF3Doj93xdq",
        "colab": {
          "base_uri": "https://localhost:8080/"
        },
        "outputId": "182ec4d9-7ea9-4300-b15c-c3dc9604d1dc"
      },
      "outputs": [
        {
          "output_type": "stream",
          "name": "stdout",
          "text": [
            "Train\n",
            "              precision    recall  f1-score   support\n",
            "\n",
            "           0       0.99      0.96      0.97      3967\n",
            "           1       0.69      0.89      0.78       422\n",
            "           2       0.96      0.60      0.74        40\n",
            "\n",
            "    accuracy                           0.95      4429\n",
            "   macro avg       0.88      0.82      0.83      4429\n",
            "weighted avg       0.96      0.95      0.95      4429\n",
            "\n",
            "Test\n",
            "              precision    recall  f1-score   support\n",
            "\n",
            "           0       0.98      0.95      0.97      1296\n",
            "           1       0.68      0.83      0.75       167\n",
            "           2       0.55      0.43      0.48        14\n",
            "\n",
            "    accuracy                           0.94      1477\n",
            "   macro avg       0.74      0.74      0.73      1477\n",
            "weighted avg       0.94      0.94      0.94      1477\n",
            "\n"
          ]
        }
      ],
      "source": [
        "train_preds = dc_gs.predict(X_train)\n",
        "test_preds = dc_gs.predict(X_test)\n",
        "\n",
        "print('Train')\n",
        "print(classification_report(y_train, train_preds))\n",
        "print('Test')\n",
        "print(classification_report(y_test, test_preds))"
      ]
    },
    {
      "cell_type": "markdown",
      "source": [
        "Model\n",
        "KNN Classifier"
      ],
      "metadata": {
        "id": "PFBlUarXROdY"
      }
    },
    {
      "cell_type": "code",
      "source": [
        "##Create an instance of the model\n",
        "knn = KNeighborsClassifier(n_neighbors=1)\n",
        "##Create a model pipeline\n",
        "knn_pipe = make_pipeline(preprocessor, knn)\n",
        "## Fit the model\n",
        "knn_pipe.fit(X_train, y_train)"
      ],
      "metadata": {
        "colab": {
          "base_uri": "https://localhost:8080/",
          "height": 226
        },
        "id": "zuJQCEo0aitO",
        "outputId": "57eda5d2-a579-43be-b1e8-2dba47472779"
      },
      "execution_count": 37,
      "outputs": [
        {
          "output_type": "execute_result",
          "data": {
            "text/plain": [
              "Pipeline(steps=[('columntransformer',\n",
              "                 ColumnTransformer(transformers=[('pipeline-1',\n",
              "                                                  Pipeline(steps=[('simpleimputer',\n",
              "                                                                   SimpleImputer(strategy='most_frequent')),\n",
              "                                                                  ('onehotencoder',\n",
              "                                                                   OneHotEncoder(handle_unknown='ignore',\n",
              "                                                                                 sparse=False))]),\n",
              "                                                  <sklearn.compose._column_transformer.make_column_selector object at 0x7efd6c4c3820>),\n",
              "                                                 ('pipeline-2',\n",
              "                                                  Pipeline(steps=[('simpleimputer',\n",
              "                                                                   SimpleImputer()),\n",
              "                                                                  ('standardscaler',\n",
              "                                                                   StandardScaler())]),\n",
              "                                                  <sklearn.compose._column_transformer.make_column_selector object at 0x7efd6c4c3eb0>)])),\n",
              "                ('kneighborsclassifier', KNeighborsClassifier(n_neighbors=1))])"
            ],
            "text/html": [
              "<style>#sk-container-id-3 {color: black;background-color: white;}#sk-container-id-3 pre{padding: 0;}#sk-container-id-3 div.sk-toggleable {background-color: white;}#sk-container-id-3 label.sk-toggleable__label {cursor: pointer;display: block;width: 100%;margin-bottom: 0;padding: 0.3em;box-sizing: border-box;text-align: center;}#sk-container-id-3 label.sk-toggleable__label-arrow:before {content: \"▸\";float: left;margin-right: 0.25em;color: #696969;}#sk-container-id-3 label.sk-toggleable__label-arrow:hover:before {color: black;}#sk-container-id-3 div.sk-estimator:hover label.sk-toggleable__label-arrow:before {color: black;}#sk-container-id-3 div.sk-toggleable__content {max-height: 0;max-width: 0;overflow: hidden;text-align: left;background-color: #f0f8ff;}#sk-container-id-3 div.sk-toggleable__content pre {margin: 0.2em;color: black;border-radius: 0.25em;background-color: #f0f8ff;}#sk-container-id-3 input.sk-toggleable__control:checked~div.sk-toggleable__content {max-height: 200px;max-width: 100%;overflow: auto;}#sk-container-id-3 input.sk-toggleable__control:checked~label.sk-toggleable__label-arrow:before {content: \"▾\";}#sk-container-id-3 div.sk-estimator input.sk-toggleable__control:checked~label.sk-toggleable__label {background-color: #d4ebff;}#sk-container-id-3 div.sk-label input.sk-toggleable__control:checked~label.sk-toggleable__label {background-color: #d4ebff;}#sk-container-id-3 input.sk-hidden--visually {border: 0;clip: rect(1px 1px 1px 1px);clip: rect(1px, 1px, 1px, 1px);height: 1px;margin: -1px;overflow: hidden;padding: 0;position: absolute;width: 1px;}#sk-container-id-3 div.sk-estimator {font-family: monospace;background-color: #f0f8ff;border: 1px dotted black;border-radius: 0.25em;box-sizing: border-box;margin-bottom: 0.5em;}#sk-container-id-3 div.sk-estimator:hover {background-color: #d4ebff;}#sk-container-id-3 div.sk-parallel-item::after {content: \"\";width: 100%;border-bottom: 1px solid gray;flex-grow: 1;}#sk-container-id-3 div.sk-label:hover label.sk-toggleable__label {background-color: #d4ebff;}#sk-container-id-3 div.sk-serial::before {content: \"\";position: absolute;border-left: 1px solid gray;box-sizing: border-box;top: 0;bottom: 0;left: 50%;z-index: 0;}#sk-container-id-3 div.sk-serial {display: flex;flex-direction: column;align-items: center;background-color: white;padding-right: 0.2em;padding-left: 0.2em;position: relative;}#sk-container-id-3 div.sk-item {position: relative;z-index: 1;}#sk-container-id-3 div.sk-parallel {display: flex;align-items: stretch;justify-content: center;background-color: white;position: relative;}#sk-container-id-3 div.sk-item::before, #sk-container-id-3 div.sk-parallel-item::before {content: \"\";position: absolute;border-left: 1px solid gray;box-sizing: border-box;top: 0;bottom: 0;left: 50%;z-index: -1;}#sk-container-id-3 div.sk-parallel-item {display: flex;flex-direction: column;z-index: 1;position: relative;background-color: white;}#sk-container-id-3 div.sk-parallel-item:first-child::after {align-self: flex-end;width: 50%;}#sk-container-id-3 div.sk-parallel-item:last-child::after {align-self: flex-start;width: 50%;}#sk-container-id-3 div.sk-parallel-item:only-child::after {width: 0;}#sk-container-id-3 div.sk-dashed-wrapped {border: 1px dashed gray;margin: 0 0.4em 0.5em 0.4em;box-sizing: border-box;padding-bottom: 0.4em;background-color: white;}#sk-container-id-3 div.sk-label label {font-family: monospace;font-weight: bold;display: inline-block;line-height: 1.2em;}#sk-container-id-3 div.sk-label-container {text-align: center;}#sk-container-id-3 div.sk-container {/* jupyter's `normalize.less` sets `[hidden] { display: none; }` but bootstrap.min.css set `[hidden] { display: none !important; }` so we also need the `!important` here to be able to override the default hidden behavior on the sphinx rendered scikit-learn.org. See: https://github.com/scikit-learn/scikit-learn/issues/21755 */display: inline-block !important;position: relative;}#sk-container-id-3 div.sk-text-repr-fallback {display: none;}</style><div id=\"sk-container-id-3\" class=\"sk-top-container\"><div class=\"sk-text-repr-fallback\"><pre>Pipeline(steps=[(&#x27;columntransformer&#x27;,\n",
              "                 ColumnTransformer(transformers=[(&#x27;pipeline-1&#x27;,\n",
              "                                                  Pipeline(steps=[(&#x27;simpleimputer&#x27;,\n",
              "                                                                   SimpleImputer(strategy=&#x27;most_frequent&#x27;)),\n",
              "                                                                  (&#x27;onehotencoder&#x27;,\n",
              "                                                                   OneHotEncoder(handle_unknown=&#x27;ignore&#x27;,\n",
              "                                                                                 sparse=False))]),\n",
              "                                                  &lt;sklearn.compose._column_transformer.make_column_selector object at 0x7efd6c4c3820&gt;),\n",
              "                                                 (&#x27;pipeline-2&#x27;,\n",
              "                                                  Pipeline(steps=[(&#x27;simpleimputer&#x27;,\n",
              "                                                                   SimpleImputer()),\n",
              "                                                                  (&#x27;standardscaler&#x27;,\n",
              "                                                                   StandardScaler())]),\n",
              "                                                  &lt;sklearn.compose._column_transformer.make_column_selector object at 0x7efd6c4c3eb0&gt;)])),\n",
              "                (&#x27;kneighborsclassifier&#x27;, KNeighborsClassifier(n_neighbors=1))])</pre><b>In a Jupyter environment, please rerun this cell to show the HTML representation or trust the notebook. <br />On GitHub, the HTML representation is unable to render, please try loading this page with nbviewer.org.</b></div><div class=\"sk-container\" hidden><div class=\"sk-item sk-dashed-wrapped\"><div class=\"sk-label-container\"><div class=\"sk-label sk-toggleable\"><input class=\"sk-toggleable__control sk-hidden--visually\" id=\"sk-estimator-id-17\" type=\"checkbox\" ><label for=\"sk-estimator-id-17\" class=\"sk-toggleable__label sk-toggleable__label-arrow\">Pipeline</label><div class=\"sk-toggleable__content\"><pre>Pipeline(steps=[(&#x27;columntransformer&#x27;,\n",
              "                 ColumnTransformer(transformers=[(&#x27;pipeline-1&#x27;,\n",
              "                                                  Pipeline(steps=[(&#x27;simpleimputer&#x27;,\n",
              "                                                                   SimpleImputer(strategy=&#x27;most_frequent&#x27;)),\n",
              "                                                                  (&#x27;onehotencoder&#x27;,\n",
              "                                                                   OneHotEncoder(handle_unknown=&#x27;ignore&#x27;,\n",
              "                                                                                 sparse=False))]),\n",
              "                                                  &lt;sklearn.compose._column_transformer.make_column_selector object at 0x7efd6c4c3820&gt;),\n",
              "                                                 (&#x27;pipeline-2&#x27;,\n",
              "                                                  Pipeline(steps=[(&#x27;simpleimputer&#x27;,\n",
              "                                                                   SimpleImputer()),\n",
              "                                                                  (&#x27;standardscaler&#x27;,\n",
              "                                                                   StandardScaler())]),\n",
              "                                                  &lt;sklearn.compose._column_transformer.make_column_selector object at 0x7efd6c4c3eb0&gt;)])),\n",
              "                (&#x27;kneighborsclassifier&#x27;, KNeighborsClassifier(n_neighbors=1))])</pre></div></div></div><div class=\"sk-serial\"><div class=\"sk-item sk-dashed-wrapped\"><div class=\"sk-label-container\"><div class=\"sk-label sk-toggleable\"><input class=\"sk-toggleable__control sk-hidden--visually\" id=\"sk-estimator-id-18\" type=\"checkbox\" ><label for=\"sk-estimator-id-18\" class=\"sk-toggleable__label sk-toggleable__label-arrow\">columntransformer: ColumnTransformer</label><div class=\"sk-toggleable__content\"><pre>ColumnTransformer(transformers=[(&#x27;pipeline-1&#x27;,\n",
              "                                 Pipeline(steps=[(&#x27;simpleimputer&#x27;,\n",
              "                                                  SimpleImputer(strategy=&#x27;most_frequent&#x27;)),\n",
              "                                                 (&#x27;onehotencoder&#x27;,\n",
              "                                                  OneHotEncoder(handle_unknown=&#x27;ignore&#x27;,\n",
              "                                                                sparse=False))]),\n",
              "                                 &lt;sklearn.compose._column_transformer.make_column_selector object at 0x7efd6c4c3820&gt;),\n",
              "                                (&#x27;pipeline-2&#x27;,\n",
              "                                 Pipeline(steps=[(&#x27;simpleimputer&#x27;,\n",
              "                                                  SimpleImputer()),\n",
              "                                                 (&#x27;standardscaler&#x27;,\n",
              "                                                  StandardScaler())]),\n",
              "                                 &lt;sklearn.compose._column_transformer.make_column_selector object at 0x7efd6c4c3eb0&gt;)])</pre></div></div></div><div class=\"sk-parallel\"><div class=\"sk-parallel-item\"><div class=\"sk-item\"><div class=\"sk-label-container\"><div class=\"sk-label sk-toggleable\"><input class=\"sk-toggleable__control sk-hidden--visually\" id=\"sk-estimator-id-19\" type=\"checkbox\" ><label for=\"sk-estimator-id-19\" class=\"sk-toggleable__label sk-toggleable__label-arrow\">pipeline-1</label><div class=\"sk-toggleable__content\"><pre>&lt;sklearn.compose._column_transformer.make_column_selector object at 0x7efd6c4c3820&gt;</pre></div></div></div><div class=\"sk-serial\"><div class=\"sk-item\"><div class=\"sk-serial\"><div class=\"sk-item\"><div class=\"sk-estimator sk-toggleable\"><input class=\"sk-toggleable__control sk-hidden--visually\" id=\"sk-estimator-id-20\" type=\"checkbox\" ><label for=\"sk-estimator-id-20\" class=\"sk-toggleable__label sk-toggleable__label-arrow\">SimpleImputer</label><div class=\"sk-toggleable__content\"><pre>SimpleImputer(strategy=&#x27;most_frequent&#x27;)</pre></div></div></div><div class=\"sk-item\"><div class=\"sk-estimator sk-toggleable\"><input class=\"sk-toggleable__control sk-hidden--visually\" id=\"sk-estimator-id-21\" type=\"checkbox\" ><label for=\"sk-estimator-id-21\" class=\"sk-toggleable__label sk-toggleable__label-arrow\">OneHotEncoder</label><div class=\"sk-toggleable__content\"><pre>OneHotEncoder(handle_unknown=&#x27;ignore&#x27;, sparse=False)</pre></div></div></div></div></div></div></div></div><div class=\"sk-parallel-item\"><div class=\"sk-item\"><div class=\"sk-label-container\"><div class=\"sk-label sk-toggleable\"><input class=\"sk-toggleable__control sk-hidden--visually\" id=\"sk-estimator-id-22\" type=\"checkbox\" ><label for=\"sk-estimator-id-22\" class=\"sk-toggleable__label sk-toggleable__label-arrow\">pipeline-2</label><div class=\"sk-toggleable__content\"><pre>&lt;sklearn.compose._column_transformer.make_column_selector object at 0x7efd6c4c3eb0&gt;</pre></div></div></div><div class=\"sk-serial\"><div class=\"sk-item\"><div class=\"sk-serial\"><div class=\"sk-item\"><div class=\"sk-estimator sk-toggleable\"><input class=\"sk-toggleable__control sk-hidden--visually\" id=\"sk-estimator-id-23\" type=\"checkbox\" ><label for=\"sk-estimator-id-23\" class=\"sk-toggleable__label sk-toggleable__label-arrow\">SimpleImputer</label><div class=\"sk-toggleable__content\"><pre>SimpleImputer()</pre></div></div></div><div class=\"sk-item\"><div class=\"sk-estimator sk-toggleable\"><input class=\"sk-toggleable__control sk-hidden--visually\" id=\"sk-estimator-id-24\" type=\"checkbox\" ><label for=\"sk-estimator-id-24\" class=\"sk-toggleable__label sk-toggleable__label-arrow\">StandardScaler</label><div class=\"sk-toggleable__content\"><pre>StandardScaler()</pre></div></div></div></div></div></div></div></div></div></div><div class=\"sk-item\"><div class=\"sk-estimator sk-toggleable\"><input class=\"sk-toggleable__control sk-hidden--visually\" id=\"sk-estimator-id-25\" type=\"checkbox\" ><label for=\"sk-estimator-id-25\" class=\"sk-toggleable__label sk-toggleable__label-arrow\">KNeighborsClassifier</label><div class=\"sk-toggleable__content\"><pre>KNeighborsClassifier(n_neighbors=1)</pre></div></div></div></div></div></div></div>"
            ]
          },
          "metadata": {},
          "execution_count": 37
        }
      ]
    },
    {
      "cell_type": "code",
      "source": [
        "# Save the model's predictions for the train dataset\n",
        "knn_train_preds = knn_pipe.predict(X_train)\n",
        "# Save the model's predictions for the test dataset\n",
        "knn_test_preds = knn_pipe.predict(X_test)"
      ],
      "metadata": {
        "id": "vu7aVphUak2J"
      },
      "execution_count": 38,
      "outputs": []
    },
    {
      "cell_type": "code",
      "source": [
        "knn_train_preds[:5]"
      ],
      "metadata": {
        "colab": {
          "base_uri": "https://localhost:8080/"
        },
        "id": "3RLm7PE_amqU",
        "outputId": "e9fae783-eefa-4519-be7a-7e95fb1ad4a7"
      },
      "execution_count": 39,
      "outputs": [
        {
          "output_type": "execute_result",
          "data": {
            "text/plain": [
              "array([0, 0, 0, 0, 0])"
            ]
          },
          "metadata": {},
          "execution_count": 39
        }
      ]
    },
    {
      "cell_type": "markdown",
      "source": [
        "TEST"
      ],
      "metadata": {
        "id": "KJtmVqA2awc8"
      }
    },
    {
      "cell_type": "code",
      "source": [
        "# Calculate the normalized Confusion Reports.\n",
        "labels = ['Yes', 'No']\n",
        "ConfusionMatrixDisplay.from_predictions(y_train, knn_train_preds, cmap='Blues');"
      ],
      "metadata": {
        "colab": {
          "base_uri": "https://localhost:8080/",
          "height": 449
        },
        "id": "cQQ6vb5FSFzs",
        "outputId": "e8af39c0-509f-426d-d25f-26c31df2786a"
      },
      "execution_count": 56,
      "outputs": [
        {
          "output_type": "display_data",
          "data": {
            "text/plain": [
              "<Figure size 640x480 with 2 Axes>"
            ],
            "image/png": "[encoded data removed]"
          },
          "metadata": {}
        }
      ]
    },
    {
      "cell_type": "code",
      "source": [
        "# Display the normalized Confusion Reports.\n",
        "ConfusionMatrixDisplay.from_predictions(y_train, knn_train_preds, normalize='true', cmap=\"Blues\");"
      ],
      "metadata": {
        "colab": {
          "base_uri": "https://localhost:8080/",
          "height": 455
        },
        "id": "ZZ-_MZ7fSBtU",
        "outputId": "9304bcdd-561d-4f06-cf9e-057406a57e5e"
      },
      "execution_count": 57,
      "outputs": [
        {
          "output_type": "display_data",
          "data": {
            "text/plain": [
              "<Figure size 640x480 with 2 Axes>"
            ],
            "image/png": "[encoded data removed]"
          },
          "metadata": {}
        }
      ]
    },
    {
      "cell_type": "code",
      "source": [
        "# Calculate the normalized Confusion Reports.\n",
        "\n",
        "ConfusionMatrixDisplay.from_predictions(y_test, knn_test_preds, normalize='pred', cmap='Blues');"
      ],
      "metadata": {
        "colab": {
          "base_uri": "https://localhost:8080/",
          "height": 449
        },
        "id": "LsVl0_kYR9Ps",
        "outputId": "075188ce-425c-4665-ee8a-ed2f2f203fa0"
      },
      "execution_count": 58,
      "outputs": [
        {
          "output_type": "display_data",
          "data": {
            "text/plain": [
              "<Figure size 640x480 with 2 Axes>"
            ],
            "image/png": "[encoded data removed]"
          },
          "metadata": {}
        }
      ]
    },
    {
      "cell_type": "code",
      "source": [
        "# Display the normalized Confusion Reports.\n",
        "print('Test')\n",
        "print(classification_report(y_test, knn_test_preds))\n",
        "print('Train')\n",
        "print(classification_report(y_train, knn_train_preds))"
      ],
      "metadata": {
        "colab": {
          "base_uri": "https://localhost:8080/"
        },
        "id": "DFcONgifa0lG",
        "outputId": "51554cc5-fc0e-463b-b8aa-5cbd8f8509bc"
      },
      "execution_count": 59,
      "outputs": [
        {
          "output_type": "stream",
          "name": "stdout",
          "text": [
            "Test\n",
            "              precision    recall  f1-score   support\n",
            "\n",
            "           0       0.96      0.96      0.96      1296\n",
            "           1       0.63      0.61      0.62       167\n",
            "           2       0.44      0.57      0.50        14\n",
            "\n",
            "    accuracy                           0.92      1477\n",
            "   macro avg       0.68      0.71      0.69      1477\n",
            "weighted avg       0.92      0.92      0.92      1477\n",
            "\n",
            "Train\n",
            "              precision    recall  f1-score   support\n",
            "\n",
            "           0       1.00      1.00      1.00      3967\n",
            "           1       1.00      1.00      1.00       422\n",
            "           2       1.00      1.00      1.00        40\n",
            "\n",
            "    accuracy                           1.00      4429\n",
            "   macro avg       1.00      1.00      1.00      4429\n",
            "weighted avg       1.00      1.00      1.00      4429\n",
            "\n"
          ]
        }
      ]
    },
    {
      "cell_type": "markdown",
      "source": [
        "Tune the Hypermarameters"
      ],
      "metadata": {
        "id": "Hya1BS5gRX4V"
      }
    },
    {
      "cell_type": "code",
      "source": [
        "#looking at some hyperparameters that seem tunable\n",
        "knn_pipe.get_params()"
      ],
      "metadata": {
        "colab": {
          "base_uri": "https://localhost:8080/"
        },
        "id": "a7js0LDma2gP",
        "outputId": "be861bdf-17a1-48cb-decd-3ff94c2ebc25"
      },
      "execution_count": 60,
      "outputs": [
        {
          "output_type": "execute_result",
          "data": {
            "text/plain": [
              "{'memory': None,\n",
              " 'steps': [('columntransformer',\n",
              "   ColumnTransformer(transformers=[('pipeline-1',\n",
              "                                    Pipeline(steps=[('simpleimputer',\n",
              "                                                     SimpleImputer(strategy='most_frequent')),\n",
              "                                                    ('onehotencoder',\n",
              "                                                     OneHotEncoder(handle_unknown='ignore',\n",
              "                                                                   sparse=False))]),\n",
              "                                    <sklearn.compose._column_transformer.make_column_selector object at 0x7efd6c4c3820>),\n",
              "                                   ('pipeline-2',\n",
              "                                    Pipeline(steps=[('simpleimputer',\n",
              "                                                     SimpleImputer()),\n",
              "                                                    ('standardscaler',\n",
              "                                                     StandardScaler())]),\n",
              "                                    <sklearn.compose._column_transformer.make_column_selector object at 0x7efd6c4c3eb0>)])),\n",
              "  ('kneighborsclassifier', KNeighborsClassifier())],\n",
              " 'verbose': False,\n",
              " 'columntransformer': ColumnTransformer(transformers=[('pipeline-1',\n",
              "                                  Pipeline(steps=[('simpleimputer',\n",
              "                                                   SimpleImputer(strategy='most_frequent')),\n",
              "                                                  ('onehotencoder',\n",
              "                                                   OneHotEncoder(handle_unknown='ignore',\n",
              "                                                                 sparse=False))]),\n",
              "                                  <sklearn.compose._column_transformer.make_column_selector object at 0x7efd6c4c3820>),\n",
              "                                 ('pipeline-2',\n",
              "                                  Pipeline(steps=[('simpleimputer',\n",
              "                                                   SimpleImputer()),\n",
              "                                                  ('standardscaler',\n",
              "                                                   StandardScaler())]),\n",
              "                                  <sklearn.compose._column_transformer.make_column_selector object at 0x7efd6c4c3eb0>)]),\n",
              " 'kneighborsclassifier': KNeighborsClassifier(),\n",
              " 'columntransformer__n_jobs': None,\n",
              " 'columntransformer__remainder': 'drop',\n",
              " 'columntransformer__sparse_threshold': 0.3,\n",
              " 'columntransformer__transformer_weights': None,\n",
              " 'columntransformer__transformers': [('pipeline-1',\n",
              "   Pipeline(steps=[('simpleimputer', SimpleImputer(strategy='most_frequent')),\n",
              "                   ('onehotencoder',\n",
              "                    OneHotEncoder(handle_unknown='ignore', sparse=False))]),\n",
              "   <sklearn.compose._column_transformer.make_column_selector at 0x7efd6c4c3820>),\n",
              "  ('pipeline-2',\n",
              "   Pipeline(steps=[('simpleimputer', SimpleImputer()),\n",
              "                   ('standardscaler', StandardScaler())]),\n",
              "   <sklearn.compose._column_transformer.make_column_selector at 0x7efd6c4c3eb0>)],\n",
              " 'columntransformer__verbose': False,\n",
              " 'columntransformer__verbose_feature_names_out': True,\n",
              " 'columntransformer__pipeline-1': Pipeline(steps=[('simpleimputer', SimpleImputer(strategy='most_frequent')),\n",
              "                 ('onehotencoder',\n",
              "                  OneHotEncoder(handle_unknown='ignore', sparse=False))]),\n",
              " 'columntransformer__pipeline-2': Pipeline(steps=[('simpleimputer', SimpleImputer()),\n",
              "                 ('standardscaler', StandardScaler())]),\n",
              " 'columntransformer__pipeline-1__memory': None,\n",
              " 'columntransformer__pipeline-1__steps': [('simpleimputer',\n",
              "   SimpleImputer(strategy='most_frequent')),\n",
              "  ('onehotencoder', OneHotEncoder(handle_unknown='ignore', sparse=False))],\n",
              " 'columntransformer__pipeline-1__verbose': False,\n",
              " 'columntransformer__pipeline-1__simpleimputer': SimpleImputer(strategy='most_frequent'),\n",
              " 'columntransformer__pipeline-1__onehotencoder': OneHotEncoder(handle_unknown='ignore', sparse=False),\n",
              " 'columntransformer__pipeline-1__simpleimputer__add_indicator': False,\n",
              " 'columntransformer__pipeline-1__simpleimputer__copy': True,\n",
              " 'columntransformer__pipeline-1__simpleimputer__fill_value': None,\n",
              " 'columntransformer__pipeline-1__simpleimputer__keep_empty_features': False,\n",
              " 'columntransformer__pipeline-1__simpleimputer__missing_values': nan,\n",
              " 'columntransformer__pipeline-1__simpleimputer__strategy': 'most_frequent',\n",
              " 'columntransformer__pipeline-1__simpleimputer__verbose': 'deprecated',\n",
              " 'columntransformer__pipeline-1__onehotencoder__categories': 'auto',\n",
              " 'columntransformer__pipeline-1__onehotencoder__drop': None,\n",
              " 'columntransformer__pipeline-1__onehotencoder__dtype': numpy.float64,\n",
              " 'columntransformer__pipeline-1__onehotencoder__handle_unknown': 'ignore',\n",
              " 'columntransformer__pipeline-1__onehotencoder__max_categories': None,\n",
              " 'columntransformer__pipeline-1__onehotencoder__min_frequency': None,\n",
              " 'columntransformer__pipeline-1__onehotencoder__sparse': False,\n",
              " 'columntransformer__pipeline-1__onehotencoder__sparse_output': True,\n",
              " 'columntransformer__pipeline-2__memory': None,\n",
              " 'columntransformer__pipeline-2__steps': [('simpleimputer', SimpleImputer()),\n",
              "  ('standardscaler', StandardScaler())],\n",
              " 'columntransformer__pipeline-2__verbose': False,\n",
              " 'columntransformer__pipeline-2__simpleimputer': SimpleImputer(),\n",
              " 'columntransformer__pipeline-2__standardscaler': StandardScaler(),\n",
              " 'columntransformer__pipeline-2__simpleimputer__add_indicator': False,\n",
              " 'columntransformer__pipeline-2__simpleimputer__copy': True,\n",
              " 'columntransformer__pipeline-2__simpleimputer__fill_value': None,\n",
              " 'columntransformer__pipeline-2__simpleimputer__keep_empty_features': False,\n",
              " 'columntransformer__pipeline-2__simpleimputer__missing_values': nan,\n",
              " 'columntransformer__pipeline-2__simpleimputer__strategy': 'mean',\n",
              " 'columntransformer__pipeline-2__simpleimputer__verbose': 'deprecated',\n",
              " 'columntransformer__pipeline-2__standardscaler__copy': True,\n",
              " 'columntransformer__pipeline-2__standardscaler__with_mean': True,\n",
              " 'columntransformer__pipeline-2__standardscaler__with_std': True,\n",
              " 'kneighborsclassifier__algorithm': 'auto',\n",
              " 'kneighborsclassifier__leaf_size': 30,\n",
              " 'kneighborsclassifier__metric': 'minkowski',\n",
              " 'kneighborsclassifier__metric_params': None,\n",
              " 'kneighborsclassifier__n_jobs': None,\n",
              " 'kneighborsclassifier__n_neighbors': 5,\n",
              " 'kneighborsclassifier__p': 2,\n",
              " 'kneighborsclassifier__weights': 'uniform'}"
            ]
          },
          "metadata": {},
          "execution_count": 60
        }
      ]
    },
    {
      "cell_type": "code",
      "source": [
        "# Tune hyperparameters with GridSearchCV\n",
        "\n",
        "params = {'kneighborsclassifier__n_neighbors': range(1,11), \n",
        "          'kneighborsclassifier__weights': ['uniform', 'distance']}"
      ],
      "metadata": {
        "id": "6enKJu2xa_ym"
      },
      "execution_count": 61,
      "outputs": []
    },
    {
      "cell_type": "code",
      "source": [
        "y_train.value_counts(normalize=True)"
      ],
      "metadata": {
        "colab": {
          "base_uri": "https://localhost:8080/"
        },
        "id": "azCnTP4ObA6q",
        "outputId": "015cea3d-eac8-49d2-d49e-28ed256de28a"
      },
      "execution_count": 62,
      "outputs": [
        {
          "output_type": "execute_result",
          "data": {
            "text/plain": [
              "0    0.895688\n",
              "1    0.095281\n",
              "2    0.009031\n",
              "Name: rating, dtype: float64"
            ]
          },
          "metadata": {},
          "execution_count": 62
        }
      ]
    },
    {
      "cell_type": "code",
      "source": [
        "# Visualize Accuracy Scores.\n",
        "knn_pipe = make_pipeline(preprocessor, KNeighborsClassifier())\n",
        "\n",
        "#Which scoring method should we use?\n",
        "knn_gs = GridSearchCV(knn_pipe, params, scoring='f1').fit(X_train, y_train)\n",
        "knn_gs.best_params_"
      ],
      "metadata": {
        "colab": {
          "base_uri": "https://localhost:8080/"
        },
        "id": "bcO4SjxHbCg6",
        "outputId": "586da822-42db-44fa-f7d8-26d5684ceee9"
      },
      "execution_count": 63,
      "outputs": [
        {
          "output_type": "execute_result",
          "data": {
            "text/plain": [
              "{'kneighborsclassifier__n_neighbors': 1,\n",
              " 'kneighborsclassifier__weights': 'uniform'}"
            ]
          },
          "metadata": {},
          "execution_count": 63
        }
      ]
    },
    {
      "cell_type": "code",
      "source": [
        "# Save the model's predictions for the train dataset\n",
        "knn_train_preds = knn_gs.predict(X_train)\n",
        "# Save the model's predictions for the test dataset\n",
        "knn_test_preds = knn_gs.predict(X_test)"
      ],
      "metadata": {
        "id": "scFVv8_UbFQ2"
      },
      "execution_count": 64,
      "outputs": []
    },
    {
      "cell_type": "code",
      "source": [
        "# Classification Report for the Train dataset\n",
        "# Save the Classification Report\n",
        "knn_train_report = classification_report(y_train, knn_train_preds)\n",
        "                                         \n",
        "\n",
        "# Print the Classification Report\n",
        "print('Classification Report for Train\\n')\n",
        "print(knn_train_report)"
      ],
      "metadata": {
        "colab": {
          "base_uri": "https://localhost:8080/"
        },
        "id": "Rze1UCIcRnNN",
        "outputId": "380522f3-23d6-4288-e8fe-6389a8ecaec6"
      },
      "execution_count": 65,
      "outputs": [
        {
          "output_type": "stream",
          "name": "stdout",
          "text": [
            "Classification Report for Train\n",
            "\n",
            "              precision    recall  f1-score   support\n",
            "\n",
            "           0       1.00      1.00      1.00      3967\n",
            "           1       1.00      1.00      1.00       422\n",
            "           2       1.00      1.00      1.00        40\n",
            "\n",
            "    accuracy                           1.00      4429\n",
            "   macro avg       1.00      1.00      1.00      4429\n",
            "weighted avg       1.00      1.00      1.00      4429\n",
            "\n"
          ]
        }
      ]
    },
    {
      "cell_type": "code",
      "source": [
        "# Classification Report for the Test dataset\n",
        "# Save the Classification Report\n",
        "knn_test_report = classification_report(y_test, knn_test_preds)\n",
        "                                        \n",
        "\n",
        "# Print the Classification Report\n",
        "print('Classification Report for Test\\n')\n",
        "print(knn_test_report)"
      ],
      "metadata": {
        "colab": {
          "base_uri": "https://localhost:8080/"
        },
        "id": "WcnbP_JMRpjl",
        "outputId": "8176c461-ee6c-4a1f-c29c-2d03bf6de899"
      },
      "execution_count": 66,
      "outputs": [
        {
          "output_type": "stream",
          "name": "stdout",
          "text": [
            "Classification Report for Test\n",
            "\n",
            "              precision    recall  f1-score   support\n",
            "\n",
            "           0       0.96      0.96      0.96      1296\n",
            "           1       0.63      0.61      0.62       167\n",
            "           2       0.44      0.57      0.50        14\n",
            "\n",
            "    accuracy                           0.92      1477\n",
            "   macro avg       0.68      0.71      0.69      1477\n",
            "weighted avg       0.92      0.92      0.92      1477\n",
            "\n"
          ]
        }
      ]
    },
    {
      "cell_type": "code",
      "source": [
        "fig, axes = plt.subplots(1,2, figsize=(10,4))\n",
        "\n",
        "\n",
        "ConfusionMatrixDisplay.from_predictions(y_train, knn_train_preds,\n",
        "                                        cmap='Blues', normalize='true',\n",
        "                                         ax=axes[0])\n",
        "\n",
        "axes[0].set_title('Train')\n",
        "\n",
        "ConfusionMatrixDisplay.from_predictions(y_test, knn_test_preds,\n",
        "                                        cmap='Blues', normalize='true',\n",
        "                                         ax=axes[1])\n",
        "\n",
        "axes[1].set_title('Test')\n",
        "plt.tight_layout()"
      ],
      "metadata": {
        "colab": {
          "base_uri": "https://localhost:8080/",
          "height": 433
        },
        "id": "FVQJ3QnRRr3X",
        "outputId": "c8082aff-7453-4c31-c8d3-38257c628282"
      },
      "execution_count": 67,
      "outputs": [
        {
          "output_type": "display_data",
          "data": {
            "text/plain": [
              "<Figure size 1000x400 with 4 Axes>"
            ],
            "image/png": "[encoded data removed]"
          },
          "metadata": {}
        }
      ]
    },
    {
      "cell_type": "markdown",
      "source": [
        "I choose two models for this situation: K-Nearest neighbors and Decision Tree\n",
        "\n",
        "The results for the on test are as follow:\n",
        "\n",
        "K-Nearest Neighbors Classifier\n"
      ],
      "metadata": {
        "id": "7xKumZh-TCEB"
      }
    },
    {
      "cell_type": "markdown",
      "source": [
        "\n",
        "\n",
        "Test\n",
        "\n",
        "\n",
        "              precision    recall  f1-score   support\n",
        "\n",
        "           0       0.98      0.95      0.97      1296\n",
        "           1       0.68      0.83      0.75       167\n",
        "           2       0.55      0.43      0.48        14\n",
        "\n",
        "    accuracy                           0.94      1477\n",
        "\n",
        "\n"
      ],
      "metadata": {
        "id": "0QJfxTQ6THd4"
      }
    },
    {
      "cell_type": "markdown",
      "source": [
        "DecisionTree Classifier\n"
      ],
      "metadata": {
        "id": "ovxWeJJKToRP"
      }
    },
    {
      "cell_type": "markdown",
      "source": [
        "\n",
        "\n",
        "Test\n",
        "\n",
        "\n",
        "              precision    recall  f1-score   support\n",
        "\n",
        "           0       0.96      0.96      0.96      1296\n",
        "           1       0.63      0.61      0.62       167\n",
        "           2       0.44      0.57      0.50        14\n",
        "\n",
        "    accuracy                           0.92      1477"
      ],
      "metadata": {
        "id": "Yj3KeSM-TaAO"
      }
    },
    {
      "cell_type": "markdown",
      "source": [
        "Based on this, The best model was the Decision tree, although the accuracy results are really closed the KNearest Neighboors has the highest numbers on precision, recall and f1 score.\n",
        "And the average is higher as well."
      ],
      "metadata": {
        "id": "vsZwwTPQTeJJ"
      }
    }
  ],
  "metadata": {
    "colab": {
      "provenance": [],
      "include_colab_link": true
    },
    "kernelspec": {
      "display_name": "Python 3",
      "name": "python3"
    },
    "language_info": {
      "name": "python"
    }
  },
  "nbformat": 4,
  "nbformat_minor": 0
}